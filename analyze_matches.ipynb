{
 "cells": [
  {
   "cell_type": "markdown",
   "id": "988d68c6-f2ae-4414-9d6e-4ac448d505a6",
   "metadata": {},
   "source": [
    "# Analyze Matches"
   ]
  },
  {
   "cell_type": "code",
   "execution_count": null,
   "id": "0e71ab4b-4859-4e21-8dc5-6421d513bb07",
   "metadata": {},
   "outputs": [],
   "source": []
  }
 ],
 "metadata": {
  "kernelspec": {
   "display_name": "Python 3 (ipykernel)",
   "language": "python",
   "name": "python3"
  },
  "language_info": {
   "codemirror_mode": {
    "name": "ipython",
    "version": 3
   },
   "file_extension": ".py",
   "mimetype": "text/x-python",
   "name": "python",
   "nbconvert_exporter": "python",
   "pygments_lexer": "ipython3",
   "version": "3.11.5"
  }
 },
 "nbformat": 4,
 "nbformat_minor": 5
}
