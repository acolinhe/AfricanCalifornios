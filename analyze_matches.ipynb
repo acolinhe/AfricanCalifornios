{
 "cells": [
  {
   "cell_type": "markdown",
   "id": "988d68c6-f2ae-4414-9d6e-4ac448d505a6",
   "metadata": {},
   "source": [
    "# Analyze Matches"
   ]
  },
  {
   "cell_type": "code",
   "execution_count": 6,
   "id": "acfbc699",
   "metadata": {},
   "outputs": [],
   "source": [
    "import pandas as pd\n",
    "from person_matching_functions import *"
   ]
  },
  {
   "cell_type": "markdown",
   "id": "aa8c4b74",
   "metadata": {},
   "source": [
    "## Filter 1790 Census & Baptisms Matches"
   ]
  },
  {
   "cell_type": "code",
   "execution_count": 5,
   "id": "0e71ab4b-4859-4e21-8dc5-6421d513bb07",
   "metadata": {},
   "outputs": [],
   "source": [
    "matches_1790 = pd.read_pickle('matches/1790_census_matches.pkl')"
   ]
  },
  {
   "cell_type": "code",
   "execution_count": null,
   "id": "19da0681",
   "metadata": {},
   "outputs": [],
   "source": []
  }
 ],
 "metadata": {
  "kernelspec": {
   "display_name": "Python 3 (ipykernel)",
   "language": "python",
   "name": "python3"
  },
  "language_info": {
   "codemirror_mode": {
    "name": "ipython",
    "version": 3
   },
   "file_extension": ".py",
   "mimetype": "text/x-python",
   "name": "python",
   "nbconvert_exporter": "python",
   "pygments_lexer": "ipython3",
   "version": "3.11.5"
  }
 },
 "nbformat": 4,
 "nbformat_minor": 5
}
