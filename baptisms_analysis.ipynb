{
 "cells": [
  {
   "cell_type": "code",
   "execution_count": 1,
   "metadata": {},
   "outputs": [],
   "source": [
    "import pandas as pd\n",
    "from person_matching_functions import *\n",
    "import matplotlib.pyplot as plt\n",
    "import seaborn as sns"
   ]
  },
  {
   "cell_type": "markdown",
   "metadata": {},
   "source": [
    "## Preprocessing"
   ]
  },
  {
   "cell_type": "code",
   "execution_count": 2,
   "metadata": {},
   "outputs": [],
   "source": [
    "direct_feature_weights = {\n",
    "    'First Name Match Score': 0.20,\n",
    "    'Last Name Match Score': 0.35,\n",
    "    'Gender Match Score': 0.30\n",
    "    # 'Age Match Score': 0.15\n",
    "}\n",
    "\n",
    "mother_feature_weights = {\n",
    "    'Mother First Name Match Score': 0.20,\n",
    "    'Mother Last Name Match Score': 0.35,\n",
    "    'Gender Match Score': 0.30\n",
    "    # 'Age Match Score': 0.15,\n",
    "}\n",
    "\n",
    "father_feature_weights = {\n",
    "    'Father First Name Match Score': 0.20,\n",
    "    'Father Last Name Match Score': 0.35,\n",
    "    'Gender Match Score': 0.30\n",
    "    # 'Age Match Score': 0.15,\n",
    "}"
   ]
  },
  {
   "cell_type": "code",
   "execution_count": 3,
   "metadata": {},
   "outputs": [],
   "source": [
    "df = pd.read_pickle('pickles/matched_records_padron_1821.pkl')"
   ]
  },
  {
   "cell_type": "code",
   "execution_count": 4,
   "metadata": {},
   "outputs": [
    {
     "data": {
      "text/html": [
       "<div>\n",
       "<style scoped>\n",
       "    .dataframe tbody tr th:only-of-type {\n",
       "        vertical-align: middle;\n",
       "    }\n",
       "\n",
       "    .dataframe tbody tr th {\n",
       "        vertical-align: top;\n",
       "    }\n",
       "\n",
       "    .dataframe thead th {\n",
       "        text-align: right;\n",
       "    }\n",
       "</style>\n",
       "<table border=\"1\" class=\"dataframe\">\n",
       "  <thead>\n",
       "    <tr style=\"text-align: right;\">\n",
       "      <th></th>\n",
       "      <th>ecpp_id</th>\n",
       "      <th>#ID</th>\n",
       "      <th>Census First Name</th>\n",
       "      <th>Baptisms First Name</th>\n",
       "      <th>First Name Match Classifier</th>\n",
       "      <th>Census Last Name</th>\n",
       "      <th>Baptisms Last Name</th>\n",
       "      <th>Last Name Match Classifier</th>\n",
       "      <th>Mother Baptisms First Name</th>\n",
       "      <th>Mother First Name Match Classifier</th>\n",
       "      <th>Mother Baptisms Last Name</th>\n",
       "      <th>Mother Last Name Match Classifier</th>\n",
       "      <th>Father Baptisms First Name</th>\n",
       "      <th>Father First Name Match Classifier</th>\n",
       "      <th>Father Baptisms Last Name</th>\n",
       "      <th>Father Last Name Match Classifier</th>\n",
       "      <th>Census Gender</th>\n",
       "      <th>Baptisms Gender</th>\n",
       "      <th>Gender Match Classifier</th>\n",
       "    </tr>\n",
       "  </thead>\n",
       "  <tbody>\n",
       "    <tr>\n",
       "      <th>0</th>\n",
       "      <td>1</td>\n",
       "      <td>2</td>\n",
       "      <td>Anastacio</td>\n",
       "      <td>Joseph Ignacio Matheo</td>\n",
       "      <td>16</td>\n",
       "      <td>Carrillo  Lugo</td>\n",
       "      <td>Velasco y Lara</td>\n",
       "      <td>12</td>\n",
       "      <td>Maria Antonia Euvalda</td>\n",
       "      <td>16</td>\n",
       "      <td>Campos</td>\n",
       "      <td>12</td>\n",
       "      <td>Joseph Fernando</td>\n",
       "      <td>14</td>\n",
       "      <td>Velasco y Lara</td>\n",
       "      <td>12</td>\n",
       "      <td>m</td>\n",
       "      <td>m</td>\n",
       "      <td>1</td>\n",
       "    </tr>\n",
       "    <tr>\n",
       "      <th>1</th>\n",
       "      <td>1</td>\n",
       "      <td>3</td>\n",
       "      <td>Anastacio</td>\n",
       "      <td>Maria Estefana Valvanera</td>\n",
       "      <td>19</td>\n",
       "      <td>Carrillo  Lugo</td>\n",
       "      <td>Villa</td>\n",
       "      <td>12</td>\n",
       "      <td>Maria Paula</td>\n",
       "      <td>9</td>\n",
       "      <td>Martines</td>\n",
       "      <td>12</td>\n",
       "      <td>Juan Joseph</td>\n",
       "      <td>9</td>\n",
       "      <td>Villa</td>\n",
       "      <td>12</td>\n",
       "      <td>m</td>\n",
       "      <td>f</td>\n",
       "      <td>0</td>\n",
       "    </tr>\n",
       "    <tr>\n",
       "      <th>2</th>\n",
       "      <td>1</td>\n",
       "      <td>4</td>\n",
       "      <td>Anastacio</td>\n",
       "      <td>Maria Antonia</td>\n",
       "      <td>10</td>\n",
       "      <td>Carrillo  Lugo</td>\n",
       "      <td>Quixada</td>\n",
       "      <td>13</td>\n",
       "      <td>Ju[a]na Maria</td>\n",
       "      <td>9</td>\n",
       "      <td>Armenta</td>\n",
       "      <td>13</td>\n",
       "      <td>Vicente</td>\n",
       "      <td>9</td>\n",
       "      <td>Quixada</td>\n",
       "      <td>13</td>\n",
       "      <td>m</td>\n",
       "      <td>f</td>\n",
       "      <td>0</td>\n",
       "    </tr>\n",
       "    <tr>\n",
       "      <th>3</th>\n",
       "      <td>1</td>\n",
       "      <td>5</td>\n",
       "      <td>Anastacio</td>\n",
       "      <td>Juan Pedro Jacinto</td>\n",
       "      <td>13</td>\n",
       "      <td>Carrillo  Lugo</td>\n",
       "      <td>Ruiz</td>\n",
       "      <td>13</td>\n",
       "      <td>Maria Isabel</td>\n",
       "      <td>10</td>\n",
       "      <td>Armenta</td>\n",
       "      <td>13</td>\n",
       "      <td>Fructuoso Maria</td>\n",
       "      <td>11</td>\n",
       "      <td>Ruiz</td>\n",
       "      <td>13</td>\n",
       "      <td>m</td>\n",
       "      <td>m</td>\n",
       "      <td>1</td>\n",
       "    </tr>\n",
       "    <tr>\n",
       "      <th>4</th>\n",
       "      <td>1</td>\n",
       "      <td>6</td>\n",
       "      <td>Anastacio</td>\n",
       "      <td>Joseph Maria</td>\n",
       "      <td>11</td>\n",
       "      <td>Carrillo  Lugo</td>\n",
       "      <td>Rodrigues</td>\n",
       "      <td>12</td>\n",
       "      <td>Juana Paula</td>\n",
       "      <td>8</td>\n",
       "      <td>Parra</td>\n",
       "      <td>12</td>\n",
       "      <td>Joseph Ignacio</td>\n",
       "      <td>11</td>\n",
       "      <td>Rodrigues</td>\n",
       "      <td>12</td>\n",
       "      <td>m</td>\n",
       "      <td>m</td>\n",
       "      <td>1</td>\n",
       "    </tr>\n",
       "    <tr>\n",
       "      <th>...</th>\n",
       "      <td>...</td>\n",
       "      <td>...</td>\n",
       "      <td>...</td>\n",
       "      <td>...</td>\n",
       "      <td>...</td>\n",
       "      <td>...</td>\n",
       "      <td>...</td>\n",
       "      <td>...</td>\n",
       "      <td>...</td>\n",
       "      <td>...</td>\n",
       "      <td>...</td>\n",
       "      <td>...</td>\n",
       "      <td>...</td>\n",
       "      <td>...</td>\n",
       "      <td>...</td>\n",
       "      <td>...</td>\n",
       "      <td>...</td>\n",
       "      <td>...</td>\n",
       "      <td>...</td>\n",
       "    </tr>\n",
       "    <tr>\n",
       "      <th>3693755</th>\n",
       "      <td>340</td>\n",
       "      <td>105684</td>\n",
       "      <td>Mariano</td>\n",
       "      <td>Maria Luisa</td>\n",
       "      <td>6</td>\n",
       "      <td>Olivera Reyes</td>\n",
       "      <td>Ord</td>\n",
       "      <td>11</td>\n",
       "      <td>Luisa</td>\n",
       "      <td>6</td>\n",
       "      <td>Pong</td>\n",
       "      <td>13</td>\n",
       "      <td>Pacifico</td>\n",
       "      <td>5</td>\n",
       "      <td>Ord</td>\n",
       "      <td>11</td>\n",
       "      <td>m</td>\n",
       "      <td>f</td>\n",
       "      <td>0</td>\n",
       "    </tr>\n",
       "    <tr>\n",
       "      <th>3693756</th>\n",
       "      <td>340</td>\n",
       "      <td>105685</td>\n",
       "      <td>Mariano</td>\n",
       "      <td>Aniceto</td>\n",
       "      <td>5</td>\n",
       "      <td>Olivera Reyes</td>\n",
       "      <td>Gutierrez</td>\n",
       "      <td>8</td>\n",
       "      <td>Josefa</td>\n",
       "      <td>7</td>\n",
       "      <td>Escobar</td>\n",
       "      <td>11</td>\n",
       "      <td>Joaquin</td>\n",
       "      <td>6</td>\n",
       "      <td>Gutierrez</td>\n",
       "      <td>8</td>\n",
       "      <td>m</td>\n",
       "      <td>m</td>\n",
       "      <td>1</td>\n",
       "    </tr>\n",
       "    <tr>\n",
       "      <th>3693757</th>\n",
       "      <td>340</td>\n",
       "      <td>105686</td>\n",
       "      <td>Mariano</td>\n",
       "      <td>Eliza Ana de Artellano</td>\n",
       "      <td>17</td>\n",
       "      <td>Olivera Reyes</td>\n",
       "      <td>McKee</td>\n",
       "      <td>11</td>\n",
       "      <td>Concepcion</td>\n",
       "      <td>9</td>\n",
       "      <td>Munras</td>\n",
       "      <td>9</td>\n",
       "      <td>Guillermo</td>\n",
       "      <td>8</td>\n",
       "      <td>McKee</td>\n",
       "      <td>11</td>\n",
       "      <td>m</td>\n",
       "      <td>f</td>\n",
       "      <td>0</td>\n",
       "    </tr>\n",
       "    <tr>\n",
       "      <th>3693758</th>\n",
       "      <td>340</td>\n",
       "      <td>105688</td>\n",
       "      <td>Mariano</td>\n",
       "      <td>Guadalupe del Refujio Agustina</td>\n",
       "      <td>25</td>\n",
       "      <td>Olivera Reyes</td>\n",
       "      <td>Pomber [Plummer]</td>\n",
       "      <td>12</td>\n",
       "      <td>Maria Filomena</td>\n",
       "      <td>8</td>\n",
       "      <td>Pico</td>\n",
       "      <td>12</td>\n",
       "      <td>Luis</td>\n",
       "      <td>6</td>\n",
       "      <td>Pomber [Plummer]</td>\n",
       "      <td>12</td>\n",
       "      <td>m</td>\n",
       "      <td>f</td>\n",
       "      <td>0</td>\n",
       "    </tr>\n",
       "    <tr>\n",
       "      <th>3693759</th>\n",
       "      <td>340</td>\n",
       "      <td>105695</td>\n",
       "      <td>Mariano</td>\n",
       "      <td>Maria Santa</td>\n",
       "      <td>5</td>\n",
       "      <td>Olivera Reyes</td>\n",
       "      <td>Soto</td>\n",
       "      <td>13</td>\n",
       "      <td>Maria Rita</td>\n",
       "      <td>5</td>\n",
       "      <td>Arrieta</td>\n",
       "      <td>10</td>\n",
       "      <td>Juan Ysidoro</td>\n",
       "      <td>9</td>\n",
       "      <td>Soto</td>\n",
       "      <td>13</td>\n",
       "      <td>m</td>\n",
       "      <td>f</td>\n",
       "      <td>0</td>\n",
       "    </tr>\n",
       "  </tbody>\n",
       "</table>\n",
       "<p>3693760 rows × 19 columns</p>\n",
       "</div>"
      ],
      "text/plain": [
       "         ecpp_id     #ID Census First Name             Baptisms First Name  \\\n",
       "0              1       2        Anastacio            Joseph Ignacio Matheo   \n",
       "1              1       3        Anastacio         Maria Estefana Valvanera   \n",
       "2              1       4        Anastacio                    Maria Antonia   \n",
       "3              1       5        Anastacio               Juan Pedro Jacinto   \n",
       "4              1       6        Anastacio                     Joseph Maria   \n",
       "...          ...     ...               ...                             ...   \n",
       "3693755      340  105684           Mariano                     Maria Luisa   \n",
       "3693756      340  105685           Mariano                         Aniceto   \n",
       "3693757      340  105686           Mariano          Eliza Ana de Artellano   \n",
       "3693758      340  105688           Mariano  Guadalupe del Refujio Agustina   \n",
       "3693759      340  105695           Mariano                     Maria Santa   \n",
       "\n",
       "         First Name Match Classifier Census Last Name Baptisms Last Name  \\\n",
       "0                                 16  Carrillo  Lugo      Velasco y Lara   \n",
       "1                                 19  Carrillo  Lugo               Villa   \n",
       "2                                 10  Carrillo  Lugo             Quixada   \n",
       "3                                 13  Carrillo  Lugo                Ruiz   \n",
       "4                                 11  Carrillo  Lugo           Rodrigues   \n",
       "...                              ...              ...                ...   \n",
       "3693755                            6    Olivera Reyes                Ord   \n",
       "3693756                            5    Olivera Reyes          Gutierrez   \n",
       "3693757                           17    Olivera Reyes              McKee   \n",
       "3693758                           25    Olivera Reyes   Pomber [Plummer]   \n",
       "3693759                            5    Olivera Reyes               Soto   \n",
       "\n",
       "         Last Name Match Classifier Mother Baptisms First Name  \\\n",
       "0                                12      Maria Antonia Euvalda   \n",
       "1                                12                Maria Paula   \n",
       "2                                13              Ju[a]na Maria   \n",
       "3                                13               Maria Isabel   \n",
       "4                                12                Juana Paula   \n",
       "...                             ...                        ...   \n",
       "3693755                          11                      Luisa   \n",
       "3693756                           8                     Josefa   \n",
       "3693757                          11                 Concepcion   \n",
       "3693758                          12             Maria Filomena   \n",
       "3693759                          13                 Maria Rita   \n",
       "\n",
       "         Mother First Name Match Classifier Mother Baptisms Last Name  \\\n",
       "0                                        16                    Campos   \n",
       "1                                         9                  Martines   \n",
       "2                                         9                   Armenta   \n",
       "3                                        10                   Armenta   \n",
       "4                                         8                     Parra   \n",
       "...                                     ...                       ...   \n",
       "3693755                                   6                      Pong   \n",
       "3693756                                   7                   Escobar   \n",
       "3693757                                   9                    Munras   \n",
       "3693758                                   8                      Pico   \n",
       "3693759                                   5                   Arrieta   \n",
       "\n",
       "         Mother Last Name Match Classifier Father Baptisms First Name  \\\n",
       "0                                       12            Joseph Fernando   \n",
       "1                                       12                Juan Joseph   \n",
       "2                                       13                    Vicente   \n",
       "3                                       13            Fructuoso Maria   \n",
       "4                                       12             Joseph Ignacio   \n",
       "...                                    ...                        ...   \n",
       "3693755                                 13                   Pacifico   \n",
       "3693756                                 11                    Joaquin   \n",
       "3693757                                  9                  Guillermo   \n",
       "3693758                                 12                       Luis   \n",
       "3693759                                 10               Juan Ysidoro   \n",
       "\n",
       "         Father First Name Match Classifier Father Baptisms Last Name  \\\n",
       "0                                        14            Velasco y Lara   \n",
       "1                                         9                     Villa   \n",
       "2                                         9                   Quixada   \n",
       "3                                        11                      Ruiz   \n",
       "4                                        11                 Rodrigues   \n",
       "...                                     ...                       ...   \n",
       "3693755                                   5                       Ord   \n",
       "3693756                                   6                 Gutierrez   \n",
       "3693757                                   8                     McKee   \n",
       "3693758                                   6          Pomber [Plummer]   \n",
       "3693759                                   9                      Soto   \n",
       "\n",
       "         Father Last Name Match Classifier Census Gender Baptisms Gender  \\\n",
       "0                                       12             m               m   \n",
       "1                                       12             m               f   \n",
       "2                                       13             m               f   \n",
       "3                                       13             m               m   \n",
       "4                                       12             m               m   \n",
       "...                                    ...           ...             ...   \n",
       "3693755                                 11             m               f   \n",
       "3693756                                  8             m               m   \n",
       "3693757                                 11             m               f   \n",
       "3693758                                 12             m               f   \n",
       "3693759                                 13             m               f   \n",
       "\n",
       "         Gender Match Classifier  \n",
       "0                              1  \n",
       "1                              0  \n",
       "2                              0  \n",
       "3                              1  \n",
       "4                              1  \n",
       "...                          ...  \n",
       "3693755                        0  \n",
       "3693756                        1  \n",
       "3693757                        0  \n",
       "3693758                        0  \n",
       "3693759                        0  \n",
       "\n",
       "[3693760 rows x 19 columns]"
      ]
     },
     "execution_count": 4,
     "metadata": {},
     "output_type": "execute_result"
    }
   ],
   "source": [
    "df"
   ]
  },
  {
   "cell_type": "code",
   "execution_count": 5,
   "metadata": {},
   "outputs": [],
   "source": [
    "df['First Name Match Score'] = np.where(df['First Name Match Classifier'] <= 2, 1, 0)\n",
    "df['Last Name Match Score'] = np.where(df['Last Name Match Classifier'] <= 2, 1, 0)\n",
    "df['Mother First Name Match Score'] = np.where(df['Mother First Name Match Classifier'] <= 2, 1, 0)\n",
    "df['Mother Last Name Match Score'] = np.where(df['Mother Last Name Match Classifier'] <= 2, 1, 0)\n",
    "df['Father First Name Match Score'] = np.where(df['Father First Name Match Classifier'] <= 2, 1, 0)\n",
    "df['Father Last Name Match Score'] = np.where(df['Father Last Name Match Classifier'] <= 2, 1, 0)\n",
    "\n",
    "# df['Age Match Score'] = np.where(df['Age Match Range'] <= 3, 1, 0)\n",
    "\n",
    "df['Gender Match Score'] = (df['Census Gender'] == df['Baptisms Gender']).astype(int)\n",
    "\n",
    "df.drop(['First Name Match Classifier', 'Last Name Match Classifier', 'Mother First Name Match Classifier',\n",
    "         'Mother Last Name Match Classifier', 'Father First Name Match Classifier', 'Father Last Name Match Classifier'], inplace=True, axis=1)"
   ]
  },
  {
   "cell_type": "code",
   "execution_count": 6,
   "metadata": {},
   "outputs": [],
   "source": [
    "male_df = df[df['Census Gender'] == 'm'].copy()\n",
    "female_df = df[df['Census Gender'] == 'f'].copy()"
   ]
  },
  {
   "cell_type": "code",
   "execution_count": 7,
   "metadata": {},
   "outputs": [],
   "source": [
    "for score_name, weight in direct_feature_weights.items():\n",
    "    df[score_name + ' Weighted'] = df[score_name] * weight"
   ]
  },
  {
   "cell_type": "code",
   "execution_count": 8,
   "metadata": {},
   "outputs": [],
   "source": [
    "direct_weighted_columns = [score + ' Weighted' for score in direct_feature_weights.keys()]\n",
    "df['Direct Match Score'] = df[direct_weighted_columns].sum(axis=1)"
   ]
  },
  {
   "cell_type": "code",
   "execution_count": 9,
   "metadata": {},
   "outputs": [],
   "source": [
    "for score_name, weight in mother_feature_weights.items():\n",
    "    female_df[score_name + ' Weighted'] = female_df[score_name] * weight"
   ]
  },
  {
   "cell_type": "code",
   "execution_count": 10,
   "metadata": {},
   "outputs": [],
   "source": [
    "direct_weighted_columns = [score + ' Weighted' for score in mother_feature_weights.keys()]\n",
    "female_df['Parent Match Score'] = female_df[direct_weighted_columns].sum(axis=1)"
   ]
  },
  {
   "cell_type": "code",
   "execution_count": 11,
   "metadata": {},
   "outputs": [],
   "source": [
    "for score_name, weight in father_feature_weights.items():\n",
    "    male_df[score_name + ' Weighted'] = male_df[score_name] * weight"
   ]
  },
  {
   "cell_type": "code",
   "execution_count": 12,
   "metadata": {},
   "outputs": [],
   "source": [
    "direct_weighted_columns = [score + ' Weighted' for score in father_feature_weights.keys()]\n",
    "male_df['Parent Match Score'] = male_df[direct_weighted_columns].sum(axis=1)"
   ]
  },
  {
   "cell_type": "code",
   "execution_count": 13,
   "metadata": {},
   "outputs": [],
   "source": [
    "# parent_df = pd.concat([female_df, male_df])"
   ]
  },
  {
   "cell_type": "code",
   "execution_count": 14,
   "metadata": {},
   "outputs": [],
   "source": [
    "direct_threshold = 0.8\n",
    "parent_threshold = 0.8"
   ]
  },
  {
   "cell_type": "code",
   "execution_count": 15,
   "metadata": {},
   "outputs": [],
   "source": [
    "df['Is Direct Match'] = df['Direct Match Score'] >= direct_threshold\n",
    "female_df['Is Parent Match'] = female_df['Parent Match Score'] >= parent_threshold\n",
    "male_df['Is Parent Match'] = male_df['Parent Match Score'] >= parent_threshold"
   ]
  },
  {
   "cell_type": "code",
   "execution_count": 16,
   "metadata": {},
   "outputs": [],
   "source": [
    "is_direct_match = df['Direct Match Score'] >= direct_threshold"
   ]
  },
  {
   "cell_type": "code",
   "execution_count": 17,
   "metadata": {},
   "outputs": [],
   "source": [
    "direct_df = df[is_direct_match == True]"
   ]
  },
  {
   "cell_type": "code",
   "execution_count": 18,
   "metadata": {},
   "outputs": [],
   "source": [
    "filtered_direct_df = direct_df[['ecpp_id', '#ID', 'Census First Name', 'Baptisms First Name', 'Census Last Name', 'Baptisms Last Name', 'Is Direct Match']]"
   ]
  },
  {
   "cell_type": "code",
   "execution_count": 18,
   "metadata": {},
   "outputs": [],
   "source": [
    "filtered_direct_df.to_csv('matches/direct_matches_1821.csv', index=False)"
   ]
  },
  {
   "cell_type": "code",
   "execution_count": 19,
   "metadata": {},
   "outputs": [],
   "source": [
    "is_father_match = male_df['Parent Match Score'] >= parent_threshold\n",
    "is_mother_match = female_df['Parent Match Score'] >= parent_threshold"
   ]
  },
  {
   "cell_type": "code",
   "execution_count": 20,
   "metadata": {},
   "outputs": [],
   "source": [
    "father_df = male_df[is_father_match == True]\n",
    "mother_df = female_df[is_mother_match == True]"
   ]
  },
  {
   "cell_type": "code",
   "execution_count": 21,
   "metadata": {},
   "outputs": [],
   "source": [
    "# filtered_mother_df = parent_df[['ecpp_id', '#ID', 'Census First Name', 'Mother Baptisms First Name', 'Census Last Name', 'Mother Baptisms Last Name', 'Is Parent Match']]"
   ]
  },
  {
   "cell_type": "code",
   "execution_count": 22,
   "metadata": {},
   "outputs": [],
   "source": [
    "filtered_father_df = father_df[['ecpp_id', '#ID', 'Census First Name', 'Father Baptisms First Name', 'Census Last Name', 'Father Baptisms Last Name', 'Is Parent Match']]\n",
    "filtered_mother_df = mother_df[['ecpp_id', '#ID', 'Census First Name', 'Mother Baptisms First Name', 'Census Last Name', 'Mother Baptisms Last Name', 'Is Parent Match']]"
   ]
  },
  {
   "cell_type": "code",
   "execution_count": 23,
   "metadata": {},
   "outputs": [],
   "source": [
    "filtered_father_df.to_csv('matches/father_matches.csv', index=False)\n",
    "filtered_mother_df.to_csv('matches/mother_matches.csv', index=False)"
   ]
  },
  {
   "cell_type": "code",
   "execution_count": 24,
   "metadata": {},
   "outputs": [],
   "source": [
    "census_df = pd.read_csv('data/1790 Census Data Complete.csv')\n",
    "baptisms = pd.read_csv('data/Baptisms.csv')\n",
    "census_df['ecpp_id'] = range(1, len(census_df) + 1) "
   ]
  },
  {
   "cell_type": "code",
   "execution_count": 25,
   "metadata": {},
   "outputs": [],
   "source": [
    "merged_direct_df = census_df.merge(filtered_direct_df[['ecpp_id']], on='ecpp_id', how='inner')\n",
    "merged_father_df = census_df.merge(filtered_father_df[['ecpp_id']], on='ecpp_id', how='inner')\n",
    "merged_mother_df = census_df.merge(filtered_mother_df[['ecpp_id']], on='ecpp_id', how='inner')"
   ]
  },
  {
   "cell_type": "code",
   "execution_count": 26,
   "metadata": {},
   "outputs": [],
   "source": [
    "merged_direct_df = merged_direct_df.drop_duplicates(subset='ecpp_id', keep='first')\n",
    "parent_father_df = merged_father_df.drop_duplicates(subset='ecpp_id', keep='first')\n",
    "parent_mother_df = merged_mother_df.drop_duplicates(subset='ecpp_id', keep='first')"
   ]
  },
  {
   "cell_type": "code",
   "execution_count": 27,
   "metadata": {},
   "outputs": [],
   "source": [
    "merged_direct_df.to_csv('matches/census_merged_direct_matches.csv', index=False)\n",
    "parent_father_df.to_csv('matches/census_merged_father_matches.csv', index=False)\n",
    "parent_mother_df.to_csv('matches/census_merged_mother_matches.csv', index=False)"
   ]
  },
  {
   "cell_type": "code",
   "execution_count": 28,
   "metadata": {},
   "outputs": [],
   "source": [
    "baptisms_merged_direct_df = baptisms.merge(filtered_direct_df[['#ID']], on='#ID', how='inner')\n",
    "baptisms_merged_father_df = baptisms.merge(filtered_father_df[['#ID']], on='#ID', how='inner')\n",
    "baptisms_merged_mother_df = baptisms.merge(filtered_mother_df[['#ID']], on='#ID', how='inner')"
   ]
  },
  {
   "cell_type": "code",
   "execution_count": 29,
   "metadata": {},
   "outputs": [],
   "source": [
    "baptisms_merged_direct_df = baptisms_merged_direct_df.drop_duplicates(subset='#ID', keep='first')\n",
    "baptisms_merged_father_df = baptisms_merged_father_df.drop_duplicates(subset='#ID', keep='first')\n",
    "baptisms_merged_mother_df = baptisms_merged_mother_df.drop_duplicates(subset='#ID', keep='first')"
   ]
  },
  {
   "cell_type": "code",
   "execution_count": 30,
   "metadata": {},
   "outputs": [],
   "source": [
    "baptisms_merged_direct_df.to_csv('matches/baptisms_merged_direct_matches.csv', index=False)\n",
    "baptisms_merged_father_df.to_csv('matches/baptisms_merged_father_matches.csv', index=False)\n",
    "baptisms_merged_mother_df.to_csv('matches/baptisms_merged_mother_matches.csv', index=False)"
   ]
  },
  {
   "cell_type": "markdown",
   "metadata": {},
   "source": [
    "## Examine Matches and Graph"
   ]
  },
  {
   "cell_type": "code",
   "execution_count": 81,
   "metadata": {},
   "outputs": [],
   "source": [
    "direct_matches = merged_direct_df.shape[0]\n",
    "father_matches = parent_father_df.shape[0]\n",
    "mother_matches = parent_mother_df.shape[0]\n",
    "\n",
    "census_original = census_df.shape[0]"
   ]
  },
  {
   "cell_type": "code",
   "execution_count": 82,
   "metadata": {},
   "outputs": [],
   "source": [
    "direct_match_percent = (direct_matches / census_original) * 100\n",
    "remaining_percent = 100 - direct_match_percent\n",
    "\n",
    "father_match_percent = (father_matches / census_original) * 100\n",
    "father_remaining_percent = 100 - father_match_percent\n",
    "\n",
    "mother_match_percent = (mother_matches / census_original) * 100\n",
    "mother_remaining_percent = 100 - mother_match_percent"
   ]
  },
  {
   "cell_type": "code",
   "execution_count": 86,
   "metadata": {},
   "outputs": [
    {
     "data": {
      "text/plain": [
       "12.896825396825399"
      ]
     },
     "execution_count": 86,
     "metadata": {},
     "output_type": "execute_result"
    }
   ],
   "source": [
    "mother_match_percent"
   ]
  },
  {
   "cell_type": "code",
   "execution_count": 87,
   "metadata": {},
   "outputs": [],
   "source": [
    "slices = [direct_match_percent, remaining_percent]\n",
    "labels = ['Matched People', 'Not Matched'] "
   ]
  },
  {
   "cell_type": "code",
   "execution_count": 88,
   "metadata": {},
   "outputs": [],
   "source": [
    "colors = sns.color_palette(\"flare\")"
   ]
  },
  {
   "cell_type": "code",
   "execution_count": 89,
   "metadata": {},
   "outputs": [
    {
     "data": {
      "image/png": "[encoded data removed]",
      "text/plain": [
       "<Figure size 640x480 with 1 Axes>"
      ]
     },
     "metadata": {},
     "output_type": "display_data"
    }
   ],
   "source": [
    "plt.pie(slices, labels=labels, autopct=\"%1.1f%%\", colors=colors)\n",
    "plt.title(\"Pie Chart of Direct Match Percentage\")\n",
    "plt.show()"
   ]
  },
  {
   "cell_type": "code",
   "execution_count": 90,
   "metadata": {},
   "outputs": [],
   "source": [
    "slices = [father_match_percent, father_remaining_percent]\n",
    "labels = ['Matched Father', 'Not Matched'] "
   ]
  },
  {
   "cell_type": "code",
   "execution_count": 91,
   "metadata": {},
   "outputs": [
    {
     "data": {
      "image/png": "[encoded data removed]",
      "text/plain": [
       "<Figure size 640x480 with 1 Axes>"
      ]
     },
     "metadata": {},
     "output_type": "display_data"
    }
   ],
   "source": [
    "plt.pie(slices, labels=labels, autopct=\"%1.1f%%\", colors=colors)\n",
    "plt.title(\"Pie Chart of Father Match Percentage\")\n",
    "plt.show()"
   ]
  },
  {
   "cell_type": "code",
   "execution_count": 92,
   "metadata": {},
   "outputs": [],
   "source": [
    "slices = [mother_match_percent, mother_remaining_percent]\n",
    "labels = ['Matched Mother', 'Not Matched'] "
   ]
  },
  {
   "cell_type": "code",
   "execution_count": 93,
   "metadata": {},
   "outputs": [
    {
     "data": {
      "image/png": "[encoded data removed]",
      "text/plain": [
       "<Figure size 640x480 with 1 Axes>"
      ]
     },
     "metadata": {},
     "output_type": "display_data"
    }
   ],
   "source": [
    "plt.pie(slices, labels=labels, autopct=\"%1.1f%%\", colors=colors)\n",
    "plt.title(\"Pie Chart of Mother Match Percentage\")\n",
    "plt.show()"
   ]
  },
  {
   "cell_type": "code",
   "execution_count": 94,
   "metadata": {},
   "outputs": [
    {
     "data": {
      "text/plain": [
       "Index(['#ID', 'DMission', 'MMission', 'FMission', 'Mission', 'DeathLinkBasis',\n",
       "       'BurialDate', 'DeathNumber', 'SCOfficiant', 'Recorder', 'Officiant',\n",
       "       'MNumber', 'MReligiousStatus', 'MEthnicity', 'MOrigin', 'MSurname',\n",
       "       'MNativeName', 'MSpanishName', 'FMilitaryStatus', 'FReligiousStatus',\n",
       "       'FEthnicity', 'FOrigin', 'FSurname', 'FNativeName', 'FSpanishName',\n",
       "       'FNumber', 'BirthDate', 'DerivedOrigin', 'ReligiousStatus', 'Ethnicity',\n",
       "       'Origin', 'Surname', 'NativeName', 'SpanishName', 'Age', 'Place',\n",
       "       'TypePhrase', 'SupliCeremoniaDate', 'Number', 'Date', 'FmtdDate',\n",
       "       'Type', 'MaritalStatus', 'Sex', 'Leg', 'Unit', 'Level', 'Notes'],\n",
       "      dtype='object')"
      ]
     },
     "execution_count": 94,
     "metadata": {},
     "output_type": "execute_result"
    }
   ],
   "source": [
    "baptisms_merged_direct_df.columns"
   ]
  },
  {
   "cell_type": "code",
   "execution_count": 102,
   "metadata": {},
   "outputs": [
    {
     "data": {
      "text/plain": [
       "Index(['Current_Location', 'First', 'First_Normalized', 'Last',\n",
       "       'Last_Normalized', 'Race', 'Rank', 'Gender', 'Origin', 'Age',\n",
       "       'Spouse_First', 'Spouse_Last', 'Father_First', 'Father_Last',\n",
       "       'Mother_First', 'Mother_Last', 'Child1', 'Child2', 'Child3', 'Child4',\n",
       "       'Child5', 'Child6', 'Child7', 'Child8', 'Child9', 'Child10', 'Child11',\n",
       "       'Child12', 'Child13', 'Child14', 'Origin Parish', 'Race in Other',\n",
       "       'Location Other Race', 'Notes/URL', 'ecpp_id'],\n",
       "      dtype='object')"
      ]
     },
     "execution_count": 102,
     "metadata": {},
     "output_type": "execute_result"
    }
   ],
   "source": [
    "parent_father_df.columns"
   ]
  },
  {
   "cell_type": "code",
   "execution_count": 113,
   "metadata": {},
   "outputs": [
    {
     "data": {
      "text/plain": [
       "<Axes: xlabel='Ethnicity', ylabel='Count'>"
      ]
     },
     "execution_count": 113,
     "metadata": {},
     "output_type": "execute_result"
    },
    {
     "data": {
      "image/png": "[encoded data removed]",
      "text/plain": [
       "<Figure size 640x480 with 1 Axes>"
      ]
     },
     "metadata": {},
     "output_type": "display_data"
    }
   ],
   "source": [
    "sns.histplot(data=baptisms_merged_father_df, x=\"Ethnicity\", color='grey')"
   ]
  },
  {
   "cell_type": "code",
   "execution_count": 114,
   "metadata": {},
   "outputs": [
    {
     "data": {
      "text/plain": [
       "<Axes: xlabel='Ethnicity', ylabel='Count'>"
      ]
     },
     "execution_count": 114,
     "metadata": {},
     "output_type": "execute_result"
    },
    {
     "data": {
      "image/png": "[encoded data removed]",
      "text/plain": [
       "<Figure size 640x480 with 1 Axes>"
      ]
     },
     "metadata": {},
     "output_type": "display_data"
    }
   ],
   "source": [
    "sns.histplot(data=baptisms_merged_direct_df, x=\"Ethnicity\", color='grey')"
   ]
  },
  {
   "cell_type": "code",
   "execution_count": 108,
   "metadata": {},
   "outputs": [
    {
     "name": "stderr",
     "output_type": "stream",
     "text": [
      "/var/folders/11/8ksxnknx25vggx01_lhybb9c0000gn/T/ipykernel_82822/2586974856.py:1: SettingWithCopyWarning: \n",
      "A value is trying to be set on a copy of a slice from a DataFrame.\n",
      "Try using .loc[row_indexer,col_indexer] = value instead\n",
      "\n",
      "See the caveats in the documentation: https://pandas.pydata.org/pandas-docs/stable/user_guide/indexing.html#returning-a-view-versus-a-copy\n",
      "  parent_father_df['Race'] = parent_father_df['Race'].str.strip().str.replace(',', '').replace(' ', '').str.title()\n"
     ]
    }
   ],
   "source": [
    "parent_father_df['Race'] = parent_father_df['Race'].str.strip().str.replace(',', '').replace(' ', '').str.title()"
   ]
  },
  {
   "cell_type": "code",
   "execution_count": 115,
   "metadata": {},
   "outputs": [
    {
     "data": {
      "text/plain": [
       "<Axes: xlabel='Ethnicity', ylabel='Count'>"
      ]
     },
     "execution_count": 115,
     "metadata": {},
     "output_type": "execute_result"
    },
    {
     "data": {
      "image/png": "[encoded data removed]",
      "text/plain": [
       "<Figure size 640x480 with 1 Axes>"
      ]
     },
     "metadata": {},
     "output_type": "display_data"
    }
   ],
   "source": [
    "sns.histplot(data=baptisms_merged_mother_df, x=\"Ethnicity\", color='grey')"
   ]
  },
  {
   "cell_type": "code",
   "execution_count": 109,
   "metadata": {},
   "outputs": [
    {
     "data": {
      "text/plain": [
       "<Axes: xlabel='Race', ylabel='Count'>"
      ]
     },
     "execution_count": 109,
     "metadata": {},
     "output_type": "execute_result"
    },
    {
     "data": {
      "image/png": "[encoded data removed]",
      "text/plain": [
       "<Figure size 640x480 with 1 Axes>"
      ]
     },
     "metadata": {},
     "output_type": "display_data"
    }
   ],
   "source": [
    "sns.histplot(data=parent_father_df, x=\"Race\", color='grey')"
   ]
  },
  {
   "cell_type": "code",
   "execution_count": 110,
   "metadata": {},
   "outputs": [
    {
     "data": {
      "text/plain": [
       "Race\n",
       "Español           96\n",
       "Mestizo           37\n",
       "Mulato            21\n",
       "Indio              9\n",
       "Coyote             6\n",
       "Color Quebrado     4\n",
       "Europeo            3\n",
       "Española           3\n",
       "Mestiza            2\n",
       "Mulata             2\n",
       "Español Mulata     2\n",
       "India              2\n",
       "Mulato India       1\n",
       "Pardo              1\n",
       "Name: count, dtype: int64"
      ]
     },
     "execution_count": 110,
     "metadata": {},
     "output_type": "execute_result"
    }
   ],
   "source": [
    "parent_father_df.Race.value_counts()"
   ]
  },
  {
   "cell_type": "code",
   "execution_count": 117,
   "metadata": {},
   "outputs": [
    {
     "data": {
      "text/plain": [
       "Race\n",
       "española           50\n",
       "mestiza            23\n",
       "mulata             22\n",
       "india               7\n",
       "coyota              7\n",
       "mulato, india       3\n",
       ", india             2\n",
       "indio, india        2\n",
       "español, india      2\n",
       "indio,              2\n",
       "español,            2\n",
       ", española          1\n",
       "orphan, unknown     1\n",
       "coyote, india       1\n",
       "español             1\n",
       "parda               1\n",
       "Name: count, dtype: int64"
      ]
     },
     "execution_count": 117,
     "metadata": {},
     "output_type": "execute_result"
    }
   ],
   "source": [
    "parent_mother_df.Race.value_counts()"
   ]
  },
  {
   "cell_type": "code",
   "execution_count": 119,
   "metadata": {},
   "outputs": [
    {
     "data": {
      "text/plain": [
       "Race\n",
       "español            29\n",
       "mestizo            14\n",
       "española           13\n",
       "mulato             10\n",
       "español,            6\n",
       "mestiza             4\n",
       "mulata              4\n",
       "español, india      3\n",
       "español, mulata     3\n",
       ", española          2\n",
       "coyota              2\n",
       "coyote              1\n",
       "color quebrado      1\n",
       ", mestiza           1\n",
       "indio,              1\n",
       ", india             1\n",
       ", mulata            1\n",
       "mulato, india       1\n",
       "Name: count, dtype: int64"
      ]
     },
     "execution_count": 119,
     "metadata": {},
     "output_type": "execute_result"
    }
   ],
   "source": [
    "merged_direct_df.Race.value_counts()"
   ]
  },
  {
   "cell_type": "code",
   "execution_count": null,
   "metadata": {},
   "outputs": [],
   "source": []
  }
 ],
 "metadata": {
  "kernelspec": {
   "display_name": "base",
   "language": "python",
   "name": "python3"
  },
  "language_info": {
   "codemirror_mode": {
    "name": "ipython",
    "version": 3
   },
   "file_extension": ".py",
   "mimetype": "text/x-python",
   "name": "python",
   "nbconvert_exporter": "python",
   "pygments_lexer": "ipython3",
   "version": "3.11.5"
  }
 },
 "nbformat": 4,
 "nbformat_minor": 2
}
