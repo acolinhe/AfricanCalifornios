{
 "cells": [
  {
   "cell_type": "code",
   "execution_count": 1,
   "metadata": {},
   "outputs": [],
   "source": [
    "import pandas as pd"
   ]
  },
  {
   "cell_type": "markdown",
   "metadata": {},
   "source": [
    "# Create People Collect 2.0"
   ]
  },
  {
   "cell_type": "code",
   "execution_count": 2,
   "metadata": {},
   "outputs": [],
   "source": [
    "features = [\n",
    "    # Last name from ECPP-Baptisms\n",
    "    \"last_name\",\n",
    "    \"aka_last_name\",\n",
    "    # First name from 1790 census\n",
    "    \"first_name\",\n",
    "    \"aka_first_name\",\n",
    "    # Aggregation of race to root of family tree\n",
    "    \"race_aggregated\",\n",
    "    # race if matches 1790 census\n",
    "    \"race_1790\",\n",
    "    # race if matches SJ 1778\n",
    "    \"race_sj1778\",\n",
    "    # race if matches LA 1781\n",
    "    \"race_la1781\",\n",
    "    # race if matches LA 1785\n",
    "    \"race_la1785\",\n",
    "    # race if matches SJ 1821\n",
    "    \"race_la1821\",\n",
    "    # ethnicity from baptisms\n",
    "    \"ethnicity\",\n",
    "    # baptismal date from Baptism\n",
    "    \"baptismal_date\",\n",
    "    \"location_ecpp_baptism\",\n",
    "    \"location_1790_census\",\n",
    "    # baptisms\n",
    "    \"father_last_name\",\n",
    "    \"father_first_name\",\n",
    "    \"father_military_status\",\n",
    "    \"father_origin\",\n",
    "    \"mother_last_name\",\n",
    "    \"mother_first_name\",\n",
    "    \"mother_origin\",\n",
    "    \"sex\",\n",
    "    # 1790 census\n",
    "    \"origin_parish_1790_census\",\n",
    "    # \"race_in_other\" what exactly is this?,\n",
    "    \"location_other_race\",\n",
    "    \"notes_url_1790_census\",\n",
    "    \"id_ecpp\",\n",
    "]\n"
   ]
  },
  {
   "cell_type": "code",
   "execution_count": 3,
   "metadata": {},
   "outputs": [],
   "source": [
    "pc = pd.DataFrame(columns=features)"
   ]
  },
  {
   "cell_type": "code",
   "execution_count": 5,
   "metadata": {},
   "outputs": [],
   "source": [
    "pc.to_csv(\"people_collect/people_collection_2.csv\")"
   ]
  },
  {
   "cell_type": "code",
   "execution_count": null,
   "metadata": {},
   "outputs": [],
   "source": []
  }
 ],
 "metadata": {
  "kernelspec": {
   "display_name": "base",
   "language": "python",
   "name": "python3"
  },
  "language_info": {
   "codemirror_mode": {
    "name": "ipython",
    "version": 3
   },
   "file_extension": ".py",
   "mimetype": "text/x-python",
   "name": "python",
   "nbconvert_exporter": "python",
   "pygments_lexer": "ipython3",
   "version": "3.11.5"
  }
 },
 "nbformat": 4,
 "nbformat_minor": 2
}
