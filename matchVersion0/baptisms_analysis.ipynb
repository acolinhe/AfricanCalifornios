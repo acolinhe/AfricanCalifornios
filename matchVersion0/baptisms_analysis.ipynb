{
 "cells": [
  {
   "cell_type": "code",
   "execution_count": 1,
   "metadata": {},
   "source": [
    "import pandas as pd\n",
    "from person_matching_functions import *"
   ],
   "outputs": []
  },
  {
   "cell_type": "markdown",
   "metadata": {},
   "source": [
    "## Preprocessing"
   ]
  },
  {
   "cell_type": "code",
   "execution_count": 2,
   "metadata": {},
   "source": [
    "direct_feature_weights = {\n",
    "    'First Name Match Score': 0.20,\n",
    "    'Last Name Match Score': 0.35,\n",
    "    'Gender Match Score': 0.30,\n",
    "    'Age Match Score': 0.15\n",
    "}\n",
    "\n",
    "mother_feature_weights = {\n",
    "    'Mother First Name Match Score': 0.20,\n",
    "    'Mother Last Name Match Score': 0.35,\n",
    "    'Gender Match Score': 0.30,\n",
    "    'Age Match Score': 0.15,\n",
    "}\n",
    "\n",
    "father_feature_weights = {\n",
    "    'Father First Name Match Score': 0.20,\n",
    "    'Father Last Name Match Score': 0.35,\n",
    "    'Gender Match Score': 0.30,\n",
    "    'Age Match Score': 0.15,\n",
    "}"
   ],
   "outputs": []
  },
  {
   "cell_type": "code",
   "execution_count": 3,
   "metadata": {},
   "source": [
    "# # when no age\n",
    "# direct_feature_weights = {\n",
    "#     'First Name Match Score': 0.25,\n",
    "#     'Last Name Match Score': 0.40,\n",
    "#     'Gender Match Score': 0.35\n",
    "#     # 'Age Match Score': 0.15\n",
    "# }\n",
    "\n",
    "# mother_feature_weights = {\n",
    "#     'Mother First Name Match Score': 0.25,\n",
    "#     'Mother Last Name Match Score': 0.35,\n",
    "#     'Gender Match Score': 0.4\n",
    "#     # 'Age Match Score': 0.15,\n",
    "# }\n",
    "\n",
    "# father_feature_weights = {\n",
    "#     'Father First Name Match Score': 0.25,\n",
    "#     'Father Last Name Match Score': 0.35,\n",
    "#     'Gender Match Score': 0.4\n",
    "#     # 'Age Match Score': 0.15,\n",
    "# }"
   ],
   "outputs": []
  },
  {
   "cell_type": "code",
   "execution_count": 4,
   "metadata": {},
   "source": [
    "df = pd.read_pickle('pickles/matched_records_padron_1781.pkl')"
   ],
   "outputs": []
  },
  {
   "cell_type": "code",
   "execution_count": 19,
   "metadata": {},
   "source": [
    "df.columns"
   ],
   "outputs": []
  },
  {
   "cell_type": "code",
   "execution_count": 6,
   "metadata": {},
   "source": [
    "df['First Name Match Score'] = np.where(df['First Name Match Classifier'] <= 2, 1, 0)\n",
    "df['Last Name Match Score'] = np.where(\n",
    "    (df['Census Last Name'].isnull() | df['Baptisms Last Name'].isnull()) | \n",
    "    (df['Last Name Match Classifier'] > 2), 0, 1)\n",
    "df['Mother First Name Match Score'] = np.where(df['Mother First Name Match Classifier'] <= 2, 1, 0)\n",
    "df['Mother Last Name Match Score'] = np.where(\n",
    "    df['Mother Baptisms Last Name'].isnull() | \n",
    "    (df['Mother Last Name Match Classifier'] > 2), 0, 1)\n",
    "df['Father First Name Match Score'] = np.where(df['Father First Name Match Classifier'] <= 2, 1, 0)\n",
    "df['Father Last Name Match Score'] = np.where(\n",
    "    df['Father Baptisms Last Name'].isnull() | \n",
    "    (df['Father Last Name Match Classifier'] > 2), 0, 1)\n",
    "\n",
    "df['Age Match Score'] = np.where(df['Age Match Range'] <= 3, 1, 0)\n",
    "\n",
    "df['Gender Match Score'] = (df['Census Gender'] == df['Baptisms Gender']).astype(int)\n",
    "\n",
    "df.drop(['First Name Match Classifier', 'Last Name Match Classifier', 'Mother First Name Match Classifier',\n",
    "         'Mother Last Name Match Classifier', 'Father First Name Match Classifier', 'Father Last Name Match Classifier',\n",
    "         'Age Match Range'], inplace=True, axis=1)"
   ],
   "outputs": []
  },
  {
   "cell_type": "code",
   "execution_count": 7,
   "metadata": {},
   "source": [
    "male_df = df[df['Census Gender'] == 'm'].copy()\n",
    "female_df = df[df['Census Gender'] == 'f'].copy()"
   ],
   "outputs": []
  },
  {
   "cell_type": "code",
   "execution_count": 8,
   "metadata": {},
   "source": [
    "for score_name, weight in direct_feature_weights.items():\n",
    "    df[score_name + ' Weighted'] = df[score_name] * weight"
   ],
   "outputs": []
  },
  {
   "cell_type": "code",
   "execution_count": 9,
   "metadata": {},
   "source": [
    "direct_weighted_columns = [score + ' Weighted' for score in direct_feature_weights.keys()]\n",
    "df['Direct Match Score'] = df[direct_weighted_columns].sum(axis=1)"
   ],
   "outputs": []
  },
  {
   "cell_type": "code",
   "execution_count": 10,
   "metadata": {},
   "source": [
    "for score_name, weight in mother_feature_weights.items():\n",
    "    female_df[score_name + ' Weighted'] = female_df[score_name] * weight"
   ],
   "outputs": []
  },
  {
   "cell_type": "code",
   "execution_count": 11,
   "metadata": {},
   "source": [
    "direct_weighted_columns = [score + ' Weighted' for score in mother_feature_weights.keys()]\n",
    "female_df['Parent Match Score'] = female_df[direct_weighted_columns].sum(axis=1)"
   ],
   "outputs": []
  },
  {
   "cell_type": "code",
   "execution_count": 12,
   "metadata": {},
   "source": [
    "for score_name, weight in father_feature_weights.items():\n",
    "    male_df[score_name + ' Weighted'] = male_df[score_name] * weight"
   ],
   "outputs": []
  },
  {
   "cell_type": "code",
   "execution_count": 13,
   "metadata": {},
   "source": [
    "direct_weighted_columns = [score + ' Weighted' for score in father_feature_weights.keys()]\n",
    "male_df['Parent Match Score'] = male_df[direct_weighted_columns].sum(axis=1)"
   ],
   "outputs": []
  },
  {
   "cell_type": "code",
   "execution_count": 14,
   "metadata": {
    "tags": []
   },
   "source": [
    "df"
   ],
   "outputs": []
  },
  {
   "cell_type": "code",
   "execution_count": 15,
   "metadata": {},
   "source": [
    "direct_threshold = 0.8\n",
    "parent_threshold = 0.8"
   ],
   "outputs": []
  },
  {
   "cell_type": "code",
   "execution_count": 16,
   "metadata": {},
   "source": [
    "df['Is Direct Match'] = df['Direct Match Score'] >= direct_threshold\n",
    "female_df['Is Parent Match'] = female_df['Parent Match Score'] >= parent_threshold\n",
    "male_df['Is Parent Match'] = male_df['Parent Match Score'] >= parent_threshold"
   ],
   "outputs": []
  },
  {
   "cell_type": "code",
   "execution_count": 17,
   "metadata": {},
   "source": [
    "is_direct_match = df['Direct Match Score'] >= direct_threshold"
   ],
   "outputs": []
  },
  {
   "cell_type": "code",
   "execution_count": 18,
   "metadata": {},
   "source": [
    "direct_df = df[is_direct_match == True]"
   ],
   "outputs": []
  },
  {
   "cell_type": "code",
   "execution_count": 18,
   "metadata": {},
   "source": [
    "direct_df"
   ],
   "outputs": []
  },
  {
   "cell_type": "code",
   "execution_count": 19,
   "metadata": {},
   "source": [
    "direct_df.columns"
   ],
   "outputs": []
  },
  {
   "cell_type": "code",
   "execution_count": 20,
   "metadata": {},
   "source": [
    "filtered_direct_df = direct_df[['ecpp_id', '#ID', 'Census First Name', 'Baptisms First Name', 'Census Last Name', 'Baptisms Last Name', 'Census Age', 'Baptisms Age', 'Direct Match Score', 'Is Direct Match']]"
   ],
   "outputs": []
  },
  {
   "cell_type": "code",
   "execution_count": 21,
   "metadata": {},
   "source": [
    "filtered_direct_df.to_csv('matches/direct_matches_1781.csv', index=False)"
   ],
   "outputs": []
  },
  {
   "cell_type": "code",
   "execution_count": 22,
   "metadata": {},
   "source": [
    "is_father_match = male_df['Parent Match Score'] >= parent_threshold\n",
    "is_mother_match = female_df['Parent Match Score'] >= parent_threshold"
   ],
   "outputs": []
  },
  {
   "cell_type": "code",
   "execution_count": 23,
   "metadata": {},
   "source": [
    "father_df = male_df[is_father_match == True]\n",
    "mother_df = female_df[is_mother_match == True]"
   ],
   "outputs": []
  },
  {
   "cell_type": "code",
   "execution_count": 24,
   "metadata": {},
   "source": [
    "# filtered_mother_df = parent_df[['ecpp_id', '#ID', 'Census First Name', 'Mother Baptisms First Name', 'Census Last Name', 'Mother Baptisms Last Name', 'Is Parent Match']]"
   ],
   "outputs": []
  },
  {
   "cell_type": "code",
   "execution_count": 25,
   "metadata": {},
   "source": [
    "filtered_father_df = father_df[['ecpp_id', '#ID', 'Census First Name', 'Father Baptisms First Name', 'Census Last Name', 'Father Baptisms Last Name', 'Census Age', 'Baptisms Age', 'Is Parent Match']]\n",
    "filtered_mother_df = mother_df[['ecpp_id', '#ID', 'Census First Name', 'Mother Baptisms First Name', 'Census Last Name', 'Mother Baptisms Last Name', 'Census Age', 'Baptisms Age', 'Is Parent Match']]"
   ],
   "outputs": []
  },
  {
   "cell_type": "code",
   "execution_count": 26,
   "metadata": {},
   "source": [
    "filtered_father_df.to_csv('matches/father_matches_1781.csv', index=False)\n",
    "filtered_mother_df.to_csv('matches/mother_matches_1781.csv', index=False)"
   ],
   "outputs": []
  },
  {
   "cell_type": "markdown",
   "metadata": {},
   "source": [
    "# STOP HERE"
   ]
  },
  {
   "cell_type": "code",
   "execution_count": 27,
   "metadata": {},
   "source": [
    "# census_df = pd.read_csv('data/1790 Census Data Complete.csv')\n",
    "# baptisms = pd.read_csv('data/Baptisms.csv')\n",
    "# census_df['ecpp_id'] = range(1, len(census_df) + 1) "
   ],
   "outputs": []
  },
  {
   "cell_type": "code",
   "execution_count": 28,
   "metadata": {},
   "source": [
    "# merged_direct_df = census_df.merge(filtered_direct_df[['ecpp_id']], on='ecpp_id', how='inner')\n",
    "# merged_father_df = census_df.merge(filtered_father_df[['ecpp_id']], on='ecpp_id', how='inner')\n",
    "# merged_mother_df = census_df.merge(filtered_mother_df[['ecpp_id']], on='ecpp_id', how='inner')"
   ],
   "outputs": []
  },
  {
   "cell_type": "code",
   "execution_count": 29,
   "metadata": {},
   "source": [
    "# merged_direct_df = merged_direct_df.drop_duplicates(subset='ecpp_id', keep='first')\n",
    "# parent_father_df = merged_father_df.drop_duplicates(subset='ecpp_id', keep='first')\n",
    "# parent_mother_df = merged_mother_df.drop_duplicates(subset='ecpp_id', keep='first')"
   ],
   "outputs": []
  },
  {
   "cell_type": "code",
   "execution_count": 30,
   "metadata": {},
   "source": [
    "# merged_direct_df.to_csv('matches/census_merged_direct_matches.csv', index=False)\n",
    "# parent_father_df.to_csv('matches/census_merged_father_matches.csv', index=False)\n",
    "# parent_mother_df.to_csv('matches/census_merged_mother_matches.csv', index=False)"
   ],
   "outputs": []
  },
  {
   "cell_type": "code",
   "execution_count": 31,
   "metadata": {},
   "source": [
    "# baptisms_merged_direct_df = baptisms.merge(filtered_direct_df[['#ID']], on='#ID', how='inner')\n",
    "# baptisms_merged_father_df = baptisms.merge(filtered_father_df[['#ID']], on='#ID', how='inner')\n",
    "# baptisms_merged_mother_df = baptisms.merge(filtered_mother_df[['#ID']], on='#ID', how='inner')"
   ],
   "outputs": []
  },
  {
   "cell_type": "code",
   "execution_count": 32,
   "metadata": {},
   "source": [
    "# baptisms_merged_direct_df = baptisms_merged_direct_df.drop_duplicates(subset='#ID', keep='first')\n",
    "# baptisms_merged_father_df = baptisms_merged_father_df.drop_duplicates(subset='#ID', keep='first')\n",
    "# baptisms_merged_mother_df = baptisms_merged_mother_df.drop_duplicates(subset='#ID', keep='first')"
   ],
   "outputs": []
  },
  {
   "cell_type": "code",
   "execution_count": 33,
   "metadata": {},
   "source": [
    "# baptisms_merged_direct_df.to_csv('matches/baptisms_merged_direct_matches.csv', index=False)\n",
    "# baptisms_merged_father_df.to_csv('matches/baptisms_merged_father_matches.csv', index=False)\n",
    "# baptisms_merged_mother_df.to_csv('matches/baptisms_merged_mother_matches.csv', index=False)"
   ],
   "outputs": []
  },
  {
   "cell_type": "markdown",
   "metadata": {},
   "source": [
    "## Examine Matches and Graph"
   ]
  },
  {
   "cell_type": "code",
   "execution_count": 34,
   "metadata": {},
   "source": [
    "# direct_matches = merged_direct_df.shape[0]\n",
    "# father_matches = parent_father_df.shape[0]\n",
    "# mother_matches = parent_mother_df.shape[0]\n",
    "\n",
    "# census_original = census_df.shape[0]"
   ],
   "outputs": []
  },
  {
   "cell_type": "code",
   "execution_count": 35,
   "metadata": {},
   "source": [
    "# direct_match_percent = (direct_matches / census_original) * 100\n",
    "# remaining_percent = 100 - direct_match_percent\n",
    "\n",
    "# father_match_percent = (father_matches / census_original) * 100\n",
    "# father_remaining_percent = 100 - father_match_percent\n",
    "\n",
    "# mother_match_percent = (mother_matches / census_original) * 100\n",
    "# mother_remaining_percent = 100 - mother_match_percent"
   ],
   "outputs": []
  },
  {
   "cell_type": "code",
   "execution_count": 36,
   "metadata": {},
   "source": [
    "# mother_match_percent"
   ],
   "outputs": []
  },
  {
   "cell_type": "code",
   "execution_count": 37,
   "metadata": {},
   "source": [
    "# slices = [direct_match_percent, remaining_percent]\n",
    "# labels = ['Matched People', 'Not Matched'] "
   ],
   "outputs": []
  },
  {
   "cell_type": "code",
   "execution_count": 38,
   "metadata": {},
   "source": [
    "# colors = sns.color_palette(\"flare\")"
   ],
   "outputs": []
  },
  {
   "cell_type": "code",
   "execution_count": 39,
   "metadata": {},
   "source": [
    "# plt.pie(slices, labels=labels, autopct=\"%1.1f%%\", colors=colors)\n",
    "# plt.title(\"Pie Chart of Direct Match Percentage\")\n",
    "# plt.show()"
   ],
   "outputs": []
  },
  {
   "cell_type": "code",
   "execution_count": 40,
   "metadata": {},
   "source": [
    "# slices = [father_match_percent, father_remaining_percent]\n",
    "# labels = ['Matched Father', 'Not Matched'] "
   ],
   "outputs": []
  },
  {
   "cell_type": "code",
   "execution_count": 41,
   "metadata": {},
   "source": [
    "# plt.pie(slices, labels=labels, autopct=\"%1.1f%%\", colors=colors)\n",
    "# plt.title(\"Pie Chart of Father Match Percentage\")\n",
    "# plt.show()"
   ],
   "outputs": []
  },
  {
   "cell_type": "code",
   "execution_count": 42,
   "metadata": {},
   "source": [
    "# slices = [mother_match_percent, mother_remaining_percent]\n",
    "# labels = ['Matched Mother', 'Not Matched'] "
   ],
   "outputs": []
  },
  {
   "cell_type": "code",
   "execution_count": 43,
   "metadata": {},
   "source": [
    "# plt.pie(slices, labels=labels, autopct=\"%1.1f%%\", colors=colors)\n",
    "# plt.title(\"Pie Chart of Mother Match Percentage\")\n",
    "# plt.show()"
   ],
   "outputs": []
  },
  {
   "cell_type": "code",
   "execution_count": 44,
   "metadata": {},
   "source": [
    "# baptisms_merged_direct_df.columns"
   ],
   "outputs": []
  },
  {
   "cell_type": "code",
   "execution_count": 45,
   "metadata": {},
   "source": [
    "# parent_father_df.columns"
   ],
   "outputs": []
  },
  {
   "cell_type": "code",
   "execution_count": 46,
   "metadata": {},
   "source": [
    "# sns.histplot(data=baptisms_merged_father_df, x=\"Ethnicity\", color='grey')"
   ],
   "outputs": []
  },
  {
   "cell_type": "code",
   "execution_count": 47,
   "metadata": {},
   "source": [
    "# sns.histplot(data=baptisms_merged_direct_df, x=\"Ethnicity\", color='grey')"
   ],
   "outputs": []
  },
  {
   "cell_type": "code",
   "execution_count": 48,
   "metadata": {},
   "source": [
    "# parent_father_df['Race'] = parent_father_df['Race'].str.strip().str.replace(',', '').replace(' ', '').str.title()"
   ],
   "outputs": []
  },
  {
   "cell_type": "code",
   "execution_count": 49,
   "metadata": {},
   "source": [
    "# sns.histplot(data=baptisms_merged_mother_df, x=\"Ethnicity\", color='grey')"
   ],
   "outputs": []
  },
  {
   "cell_type": "code",
   "execution_count": 50,
   "metadata": {},
   "source": [
    "# sns.histplot(data=parent_father_df, x=\"Race\", color='grey')"
   ],
   "outputs": []
  },
  {
   "cell_type": "code",
   "execution_count": null,
   "metadata": {},
   "source": [],
   "outputs": []
  }
 ],
 "metadata": {
  "kernelspec": {
   "display_name": "Python 3 (ipykernel)",
   "language": "python",
   "name": "python3"
  },
  "language_info": {
   "codemirror_mode": {
    "name": "ipython",
    "version": 3
   },
   "file_extension": ".py",
   "mimetype": "text/x-python",
   "name": "python",
   "nbconvert_exporter": "python",
   "pygments_lexer": "ipython3",
   "version": "3.11.5"
  }
 },
 "nbformat": 4,
 "nbformat_minor": 4
}
