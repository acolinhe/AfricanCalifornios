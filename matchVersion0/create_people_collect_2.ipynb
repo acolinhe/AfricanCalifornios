{
 "cells": [
  {
   "cell_type": "markdown",
   "metadata": {},
   "source": [
    "# Create People Collect 2"
   ]
  },
  {
   "cell_type": "code",
   "execution_count": 1,
   "metadata": {},
   "source": [
    "import pandas as pd"
   ],
   "outputs": []
  },
  {
   "cell_type": "code",
   "execution_count": 2,
   "metadata": {},
   "source": [
    "pc = pd.read_csv('people_collect/people_collect_2.csv')\n",
    "direct_1790_matched = pd.read_csv('matches/direct_matches.csv')\n",
    "baptisms = pd.read_csv('data/Baptisms.csv')\n",
    "census_1790 = pd.read_csv('data/1790 Census Data Complete.csv')\n",
    "census_1790['ecpp_id'] = range(1, len(census_1790) + 1)"
   ],
   "outputs": []
  },
  {
   "cell_type": "markdown",
   "metadata": {},
   "source": [
    "## Insert Matched "
   ]
  },
  {
   "cell_type": "code",
   "execution_count": 3,
   "metadata": {},
   "source": [
    "census_1790.columns"
   ],
   "outputs": []
  },
  {
   "cell_type": "code",
   "execution_count": 4,
   "metadata": {},
   "source": [
    "baptisms.columns"
   ],
   "outputs": []
  },
  {
   "cell_type": "code",
   "execution_count": 5,
   "metadata": {},
   "source": [
    "census_1790.Race"
   ],
   "outputs": []
  },
  {
   "cell_type": "code",
   "execution_count": 6,
   "metadata": {},
   "source": [
    "direct_1790_matched"
   ],
   "outputs": []
  },
  {
   "cell_type": "code",
   "execution_count": 7,
   "metadata": {},
   "source": [
    "pc.columns"
   ],
   "outputs": []
  },
  {
   "cell_type": "code",
   "execution_count": 8,
   "metadata": {},
   "source": [
    "def clean_and_reformat_race(race_value):\n",
    "    if pd.isnull(race_value):\n",
    "        return []\n",
    "    cleaned_list = [\n",
    "        item.strip().strip('.').replace('[', '').replace(']', '')\n",
    "        for item in str(race_value).split(',') if item.strip()\n",
    "    ]\n",
    "    return cleaned_list"
   ],
   "outputs": []
  },
  {
   "cell_type": "markdown",
   "metadata": {},
   "source": [
    "## Baptisms & 1790 Census"
   ]
  },
  {
   "cell_type": "code",
   "execution_count": 9,
   "metadata": {},
   "source": [
    "# access values that are matched between baptisms & 1790 census and insert into people_collect 2.0\n",
    "# will need function to get parents names\n",
    "# function to aggregate race\n",
    "data_to_append = []\n",
    "\n",
    "for index, row in direct_1790_matched.iterrows():\n",
    "    pc.loc[index, 'last_name'] = census_1790.loc[row['ecpp_id'], 'Last']\n",
    "    pc.loc[index, 'first_name'] = census_1790.loc[row['ecpp_id'], 'First']\n",
    "    pc.loc[index, 'father_last_name'] = census_1790.loc[row['ecpp_id'], 'Father_Last']\n",
    "    pc.loc[index, 'father_first_name'] = census_1790.loc[row['ecpp_id'], 'Father_First']\n",
    "    pc.loc[index, 'mother_last_name'] = census_1790.loc[row['ecpp_id'], 'Mother_Last']\n",
    "    pc.loc[index, 'mother_first_name'] = census_1790.loc[row['ecpp_id'], 'Mother_First']\n",
    "    # maybe redundant?\n",
    "    pc.loc[index, 'father_origin'] = baptisms.loc[row['#ID'], 'FOrigin']\n",
    "    pc.loc[index, 'mother_origin'] = baptisms.loc[row['#ID'], 'FOrigin']\n",
    "\n",
    "    pc.loc[index, 'father_military_status'] = baptisms.loc[row['#ID'], 'FMilitaryStatus']\n",
    "    pc.loc[index, 'sex'] = baptisms.loc[row['#ID'], 'Sex']\n",
    "\n",
    "    pc.loc[index, 'race_1790'] = census_1790.loc[row['ecpp_id'], 'Race']\n",
    "    pc.loc[index, 'ethnicity'] = baptisms.loc[row['#ID'], 'Ethnicity']\n",
    "    pc.loc[index, 'baptismal_date'] = baptisms.loc[row['#ID'], 'FmtdDate']\n",
    "    pc.loc[index, 'location_ecpp_baptism'] = baptisms.loc[row['#ID'], 'DMission']\n",
    "    pc.loc[index, 'location_1790_census'] = census_1790.loc[row['ecpp_id'], 'Current_Location']\n",
    "    pc.loc[index, 'origin_parish_1790_census'] = census_1790.loc[row['ecpp_id'], 'Origin Parish']\n",
    "    pc.loc[index, 'location_other_race'] = census_1790.loc[row['ecpp_id'], 'Location Other Race']\n",
    "\n",
    "    # popoulate pc_id\n",
    "    data_to_append.append({'pc_id': index, '1790_ecpp_id': row['ecpp_id'], 'baptisms_id': row['#ID']})\n",
    "\n",
    "    \n",
    "\n",
    "pc['race_1790'] = pc['race_1790'].apply(clean_and_reformat_race)\n",
    "pc['ethnicity'] = pc['ethnicity'].apply(clean_and_reformat_race)\n",
    "pc_id = pd.DataFrame(data_to_append)"
   ],
   "outputs": []
  },
  {
   "cell_type": "markdown",
   "metadata": {},
   "source": [
    "## Baptisms & 1821 Padron"
   ]
  },
  {
   "cell_type": "code",
   "execution_count": 10,
   "metadata": {},
   "source": [
    "# values are repetitive, but ecpp_id and baptisms id are unique. This means records are duplicated\n",
    "pc.to_csv('people_collect/people_collect_2.csv', index=False)"
   ],
   "outputs": []
  },
  {
   "cell_type": "code",
   "execution_count": 11,
   "metadata": {},
   "source": [
    "pc_id.to_csv('people_collect/people_collect_2_ids.csv', index=False)"
   ],
   "outputs": []
  },
  {
   "cell_type": "code",
   "execution_count": 12,
   "metadata": {},
   "source": [
    "pc_id"
   ],
   "outputs": []
  },
  {
   "cell_type": "code",
   "execution_count": null,
   "metadata": {},
   "source": [],
   "outputs": []
  }
 ],
 "metadata": {
  "kernelspec": {
   "display_name": "base",
   "language": "python",
   "name": "python3"
  },
  "language_info": {
   "codemirror_mode": {
    "name": "ipython",
    "version": 3
   },
   "file_extension": ".py",
   "mimetype": "text/x-python",
   "name": "python",
   "nbconvert_exporter": "python",
   "pygments_lexer": "ipython3",
   "version": "3.11.5"
  }
 },
 "nbformat": 4,
 "nbformat_minor": 2
}
