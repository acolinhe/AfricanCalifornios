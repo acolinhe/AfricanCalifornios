{
 "cells": [
  {
   "cell_type": "markdown",
   "id": "988d68c6-f2ae-4414-9d6e-4ac448d505a6",
   "metadata": {},
   "source": [
    "# Analyze Matches"
   ]
  },
  {
   "cell_type": "code",
   "execution_count": 1,
   "id": "acfbc699",
   "metadata": {},
   "source": [
    "import pandas as pd\n",
    "from person_matching_functions import *"
   ],
   "outputs": []
  },
  {
   "cell_type": "markdown",
   "id": "aa8c4b74",
   "metadata": {},
   "source": [
    "## Filter 1790 Census & Baptisms Matches"
   ]
  },
  {
   "cell_type": "code",
   "execution_count": 2,
   "id": "0e71ab4b-4859-4e21-8dc5-6421d513bb07",
   "metadata": {},
   "source": [
    "matches = pd.read_pickle('matches/1821_census_matches.pkl')"
   ],
   "outputs": []
  },
  {
   "cell_type": "code",
   "execution_count": 3,
   "id": "19da0681",
   "metadata": {},
   "source": [
    "matches.head()"
   ],
   "outputs": []
  },
  {
   "cell_type": "code",
   "execution_count": 4,
   "id": "07c2c8b6",
   "metadata": {},
   "source": [
    "matches.columns"
   ],
   "outputs": []
  },
  {
   "cell_type": "code",
   "execution_count": 5,
   "id": "52bc9d6e",
   "metadata": {},
   "source": [
    "direct_matches = filter_records_by_score(matches, 'Direct_Total_Match_Score', .4)\n",
    "direct_matches = direct_matches.drop(columns=['Baptisms_MSpanishName', 'Baptisms_MSurname', 'Mother_Total_Match_Score', 'Father_Total_Match_Score', 'Baptisms_FSpanishName', 'Baptisms_FSurname'])"
   ],
   "outputs": []
  },
  {
   "cell_type": "code",
   "execution_count": 6,
   "id": "2cbf724c",
   "metadata": {},
   "source": [
    "direct_matches"
   ],
   "outputs": []
  },
  {
   "cell_type": "code",
   "execution_count": 7,
   "id": "4e34ab91",
   "metadata": {},
   "source": [
    "direct_matches.to_csv('csv_matches/1821_direct_matches', index=False)"
   ],
   "outputs": []
  },
  {
   "cell_type": "code",
   "execution_count": 8,
   "id": "44f138b5",
   "metadata": {},
   "source": [
    "mother_matches = filter_records_by_score(matches, 'Mother_Total_Match_Score', .4)"
   ],
   "outputs": []
  },
  {
   "cell_type": "code",
   "execution_count": 9,
   "id": "d8f1f0c1",
   "metadata": {},
   "source": [
    "mother_matches = mother_matches.drop(columns=['Baptisms_SpanishName', 'Baptisms_Surname', 'Direct_Total_Match_Score', 'Father_Total_Match_Score', 'Baptisms_FSpanishName', 'Baptisms_FSurname'])"
   ],
   "outputs": []
  },
  {
   "cell_type": "code",
   "execution_count": 10,
   "id": "95e6ca46",
   "metadata": {},
   "source": [
    "mother_matches"
   ],
   "outputs": []
  },
  {
   "cell_type": "code",
   "execution_count": 11,
   "id": "bef38018",
   "metadata": {},
   "source": [
    "mother_matches.to_csv('csv_matches/1821_mother_matches', index=False)"
   ],
   "outputs": []
  },
  {
   "cell_type": "code",
   "execution_count": 12,
   "id": "1cf07df6",
   "metadata": {},
   "source": [
    "father_matches = filter_records_by_score(matches, 'Father_Total_Match_Score', .4)"
   ],
   "outputs": []
  },
  {
   "cell_type": "code",
   "execution_count": 13,
   "id": "b7e1b85c",
   "metadata": {},
   "source": [
    "father_matches = father_matches.drop(columns=['Baptisms_SpanishName', 'Baptisms_Surname', 'Direct_Total_Match_Score', 'Mother_Total_Match_Score', 'Baptisms_MSpanishName', 'Baptisms_MSurname'])"
   ],
   "outputs": []
  },
  {
   "cell_type": "code",
   "execution_count": 14,
   "id": "dc42f38a",
   "metadata": {},
   "source": [
    "father_matches"
   ],
   "outputs": []
  },
  {
   "cell_type": "code",
   "execution_count": 67,
   "id": "c3304189",
   "metadata": {},
   "source": [
    "father_matches.to_csv('csv_matches/1821_father_matches', index=False)"
   ],
   "outputs": []
  },
  {
   "cell_type": "code",
   "execution_count": null,
   "id": "6d8b9038",
   "metadata": {},
   "source": [],
   "outputs": []
  }
 ],
 "metadata": {
  "kernelspec": {
   "display_name": "Python 3 (ipykernel)",
   "language": "python",
   "name": "python3"
  },
  "language_info": {
   "codemirror_mode": {
    "name": "ipython",
    "version": 3
   },
   "file_extension": ".py",
   "mimetype": "text/x-python",
   "name": "python",
   "nbconvert_exporter": "python",
   "pygments_lexer": "ipython3",
   "version": "3.11.5"
  }
 },
 "nbformat": 4,
 "nbformat_minor": 5
}
