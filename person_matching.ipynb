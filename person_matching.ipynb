{
 "cells": [
  {
   "cell_type": "markdown",
   "metadata": {},
   "source": [
    "# Person Matching Analysis"
   ]
  },
  {
   "cell_type": "markdown",
   "metadata": {},
   "source": [
    "## Imports"
   ]
  },
  {
   "cell_type": "code",
   "execution_count": 1,
   "metadata": {},
   "outputs": [],
   "source": [
    "import pandas as pd\n",
    "from person_matching_functions import *\n",
    "from person_matcher import PersonMatcher"
   ]
  },
  {
   "cell_type": "code",
   "execution_count": 2,
   "metadata": {},
   "outputs": [],
   "source": [
    "ecpp = pd.read_csv('data/padron_267.csv')\n",
    "ecpp.dropna(how='all', inplace=True)"
   ]
  },
  {
   "cell_type": "code",
   "execution_count": 3,
   "metadata": {},
   "outputs": [],
   "source": [
    "ecpp['ecpp_id'] = range(1, len(ecpp) + 1)"
   ]
  },
  {
   "cell_type": "code",
   "execution_count": 4,
   "metadata": {},
   "outputs": [
    {
     "data": {
      "text/plain": [
       "Index(['Ego_First Name', 'Ego_Paternal Last Name', 'Ego_ Maternal Last Name',\n",
       "       'Race', 'Sex', 'Age ', 'Father_First Name ',\n",
       "       'Father_Paternal Last Name', 'Mother_First Name',\n",
       "       'Mother_Paternal Last Name', 'Husband_First Name ',\n",
       "       'Huband_Paternal Last name', 'Wife_First Name', 'Wife_Last name',\n",
       "       'Status', 'ecpp_id'],\n",
       "      dtype='object')"
      ]
     },
     "execution_count": 4,
     "metadata": {},
     "output_type": "execute_result"
    }
   ],
   "source": [
    "ecpp.columns"
   ]
  },
  {
   "cell_type": "code",
   "execution_count": 5,
   "metadata": {},
   "outputs": [],
   "source": [
    "ecpp['Ego_Last Name'] = ecpp['Ego_Paternal Last Name'] + ' ' + ecpp['Ego_ Maternal Last Name']"
   ]
  },
  {
   "cell_type": "code",
   "execution_count": 6,
   "metadata": {},
   "outputs": [
    {
     "data": {
      "text/html": [
       "<div>\n",
       "<style scoped>\n",
       "    .dataframe tbody tr th:only-of-type {\n",
       "        vertical-align: middle;\n",
       "    }\n",
       "\n",
       "    .dataframe tbody tr th {\n",
       "        vertical-align: top;\n",
       "    }\n",
       "\n",
       "    .dataframe thead th {\n",
       "        text-align: right;\n",
       "    }\n",
       "</style>\n",
       "<table border=\"1\" class=\"dataframe\">\n",
       "  <thead>\n",
       "    <tr style=\"text-align: right;\">\n",
       "      <th></th>\n",
       "      <th>Ego_First Name</th>\n",
       "      <th>Ego_Paternal Last Name</th>\n",
       "      <th>Ego_ Maternal Last Name</th>\n",
       "      <th>Race</th>\n",
       "      <th>Sex</th>\n",
       "      <th>Age</th>\n",
       "      <th>Father_First Name</th>\n",
       "      <th>Father_Paternal Last Name</th>\n",
       "      <th>Mother_First Name</th>\n",
       "      <th>Mother_Paternal Last Name</th>\n",
       "      <th>Husband_First Name</th>\n",
       "      <th>Huband_Paternal Last name</th>\n",
       "      <th>Wife_First Name</th>\n",
       "      <th>Wife_Last name</th>\n",
       "      <th>Status</th>\n",
       "      <th>ecpp_id</th>\n",
       "      <th>Ego_Last Name</th>\n",
       "    </tr>\n",
       "  </thead>\n",
       "  <tbody>\n",
       "    <tr>\n",
       "      <th>0</th>\n",
       "      <td>Valerio</td>\n",
       "      <td>Mesa, de</td>\n",
       "      <td>NaN</td>\n",
       "      <td>Español</td>\n",
       "      <td>M</td>\n",
       "      <td>49.0</td>\n",
       "      <td>NaN</td>\n",
       "      <td>NaN</td>\n",
       "      <td>NaN</td>\n",
       "      <td>NaN</td>\n",
       "      <td>NaN</td>\n",
       "      <td>NaN</td>\n",
       "      <td>Maria</td>\n",
       "      <td>Borboa</td>\n",
       "      <td>NaN</td>\n",
       "      <td>1</td>\n",
       "      <td>NaN</td>\n",
       "    </tr>\n",
       "    <tr>\n",
       "      <th>1</th>\n",
       "      <td>Maria</td>\n",
       "      <td>Borboa</td>\n",
       "      <td>NaN</td>\n",
       "      <td>Española</td>\n",
       "      <td>F</td>\n",
       "      <td>30.0</td>\n",
       "      <td>NaN</td>\n",
       "      <td>NaN</td>\n",
       "      <td>NaN</td>\n",
       "      <td>NaN</td>\n",
       "      <td>Valerio</td>\n",
       "      <td>Mesa, de</td>\n",
       "      <td>NaN</td>\n",
       "      <td>NaN</td>\n",
       "      <td>NaN</td>\n",
       "      <td>2</td>\n",
       "      <td>NaN</td>\n",
       "    </tr>\n",
       "    <tr>\n",
       "      <th>2</th>\n",
       "      <td>Joseph Joachin</td>\n",
       "      <td>Mesa, de</td>\n",
       "      <td>Borboa</td>\n",
       "      <td>Español</td>\n",
       "      <td>M</td>\n",
       "      <td>15.0</td>\n",
       "      <td>Valerio</td>\n",
       "      <td>Mesa, de</td>\n",
       "      <td>Maria</td>\n",
       "      <td>Borboa</td>\n",
       "      <td>NaN</td>\n",
       "      <td>NaN</td>\n",
       "      <td>NaN</td>\n",
       "      <td>NaN</td>\n",
       "      <td>NaN</td>\n",
       "      <td>3</td>\n",
       "      <td>Mesa, de Borboa</td>\n",
       "    </tr>\n",
       "    <tr>\n",
       "      <th>3</th>\n",
       "      <td>Joseph Ygnacio</td>\n",
       "      <td>Mesa, de</td>\n",
       "      <td>Borboa</td>\n",
       "      <td>Español</td>\n",
       "      <td>M</td>\n",
       "      <td>13.0</td>\n",
       "      <td>Valerio</td>\n",
       "      <td>Mesa, de</td>\n",
       "      <td>Maria</td>\n",
       "      <td>Borboa</td>\n",
       "      <td>NaN</td>\n",
       "      <td>NaN</td>\n",
       "      <td>NaN</td>\n",
       "      <td>NaN</td>\n",
       "      <td>NaN</td>\n",
       "      <td>4</td>\n",
       "      <td>Mesa, de Borboa</td>\n",
       "    </tr>\n",
       "    <tr>\n",
       "      <th>4</th>\n",
       "      <td>Ygnacio Dolores</td>\n",
       "      <td>Mesa, de</td>\n",
       "      <td>Borboa</td>\n",
       "      <td>Español</td>\n",
       "      <td>M</td>\n",
       "      <td>8.0</td>\n",
       "      <td>Valerio</td>\n",
       "      <td>Mesa, de</td>\n",
       "      <td>Maria</td>\n",
       "      <td>Borboa</td>\n",
       "      <td>NaN</td>\n",
       "      <td>NaN</td>\n",
       "      <td>NaN</td>\n",
       "      <td>NaN</td>\n",
       "      <td>NaN</td>\n",
       "      <td>5</td>\n",
       "      <td>Mesa, de Borboa</td>\n",
       "    </tr>\n",
       "    <tr>\n",
       "      <th>...</th>\n",
       "      <td>...</td>\n",
       "      <td>...</td>\n",
       "      <td>...</td>\n",
       "      <td>...</td>\n",
       "      <td>...</td>\n",
       "      <td>...</td>\n",
       "      <td>...</td>\n",
       "      <td>...</td>\n",
       "      <td>...</td>\n",
       "      <td>...</td>\n",
       "      <td>...</td>\n",
       "      <td>...</td>\n",
       "      <td>...</td>\n",
       "      <td>...</td>\n",
       "      <td>...</td>\n",
       "      <td>...</td>\n",
       "      <td>...</td>\n",
       "    </tr>\n",
       "    <tr>\n",
       "      <th>60</th>\n",
       "      <td>Maria Gregoria</td>\n",
       "      <td>Gonzales</td>\n",
       "      <td>Ruiz</td>\n",
       "      <td>Indio Apache</td>\n",
       "      <td>F</td>\n",
       "      <td>11.0</td>\n",
       "      <td>Manuel</td>\n",
       "      <td>Gonzales</td>\n",
       "      <td>Michaela</td>\n",
       "      <td>Ruiz</td>\n",
       "      <td>NaN</td>\n",
       "      <td>NaN</td>\n",
       "      <td>NaN</td>\n",
       "      <td>NaN</td>\n",
       "      <td>NaN</td>\n",
       "      <td>61</td>\n",
       "      <td>Gonzales Ruiz</td>\n",
       "    </tr>\n",
       "    <tr>\n",
       "      <th>61</th>\n",
       "      <td>Ana Maria</td>\n",
       "      <td>Gonzales</td>\n",
       "      <td>Ruiz</td>\n",
       "      <td>Indio Apache</td>\n",
       "      <td>F</td>\n",
       "      <td>3.0</td>\n",
       "      <td>Manuel</td>\n",
       "      <td>Gonzales</td>\n",
       "      <td>Michaela</td>\n",
       "      <td>Ruiz</td>\n",
       "      <td>NaN</td>\n",
       "      <td>NaN</td>\n",
       "      <td>NaN</td>\n",
       "      <td>NaN</td>\n",
       "      <td>NaN</td>\n",
       "      <td>62</td>\n",
       "      <td>Gonzales Ruiz</td>\n",
       "    </tr>\n",
       "    <tr>\n",
       "      <th>62</th>\n",
       "      <td>Juan Manuel</td>\n",
       "      <td>Villela</td>\n",
       "      <td>NaN</td>\n",
       "      <td>Español</td>\n",
       "      <td>M</td>\n",
       "      <td>30.0</td>\n",
       "      <td>NaN</td>\n",
       "      <td>NaN</td>\n",
       "      <td>NaN</td>\n",
       "      <td>NaN</td>\n",
       "      <td>NaN</td>\n",
       "      <td>NaN</td>\n",
       "      <td>NaN</td>\n",
       "      <td>NaN</td>\n",
       "      <td>Soltero</td>\n",
       "      <td>63</td>\n",
       "      <td>NaN</td>\n",
       "    </tr>\n",
       "    <tr>\n",
       "      <th>63</th>\n",
       "      <td>Joseph Francisco</td>\n",
       "      <td>Sinoba</td>\n",
       "      <td>NaN</td>\n",
       "      <td>NaN</td>\n",
       "      <td>M</td>\n",
       "      <td>25.0</td>\n",
       "      <td>NaN</td>\n",
       "      <td>NaN</td>\n",
       "      <td>NaN</td>\n",
       "      <td>NaN</td>\n",
       "      <td>NaN</td>\n",
       "      <td>NaN</td>\n",
       "      <td>NaN</td>\n",
       "      <td>NaN</td>\n",
       "      <td>Sirviente Baquero</td>\n",
       "      <td>64</td>\n",
       "      <td>NaN</td>\n",
       "    </tr>\n",
       "    <tr>\n",
       "      <th>64</th>\n",
       "      <td>Maria Gertrudis</td>\n",
       "      <td>Bojorques</td>\n",
       "      <td>NaN</td>\n",
       "      <td>Mestiza</td>\n",
       "      <td>F</td>\n",
       "      <td>16.0</td>\n",
       "      <td>NaN</td>\n",
       "      <td>NaN</td>\n",
       "      <td>NaN</td>\n",
       "      <td>NaN</td>\n",
       "      <td>NaN</td>\n",
       "      <td>NaN</td>\n",
       "      <td>NaN</td>\n",
       "      <td>NaN</td>\n",
       "      <td>NaN</td>\n",
       "      <td>65</td>\n",
       "      <td>NaN</td>\n",
       "    </tr>\n",
       "  </tbody>\n",
       "</table>\n",
       "<p>65 rows × 17 columns</p>\n",
       "</div>"
      ],
      "text/plain": [
       "      Ego_First Name Ego_Paternal Last Name Ego_ Maternal Last Name  \\\n",
       "0            Valerio               Mesa, de                     NaN   \n",
       "1              Maria                 Borboa                     NaN   \n",
       "2     Joseph Joachin               Mesa, de                  Borboa   \n",
       "3     Joseph Ygnacio               Mesa, de                  Borboa   \n",
       "4    Ygnacio Dolores               Mesa, de                  Borboa   \n",
       "..               ...                    ...                     ...   \n",
       "60    Maria Gregoria               Gonzales                    Ruiz   \n",
       "61         Ana Maria               Gonzales                    Ruiz   \n",
       "62       Juan Manuel                Villela                     NaN   \n",
       "63  Joseph Francisco                 Sinoba                     NaN   \n",
       "64   Maria Gertrudis              Bojorques                     NaN   \n",
       "\n",
       "            Race Sex  Age  Father_First Name  Father_Paternal Last Name  \\\n",
       "0        Español   M  49.0                NaN                       NaN   \n",
       "1       Española   F  30.0                NaN                       NaN   \n",
       "2        Español   M  15.0            Valerio                  Mesa, de   \n",
       "3        Español   M  13.0            Valerio                  Mesa, de   \n",
       "4        Español   M   8.0            Valerio                  Mesa, de   \n",
       "..           ...  ..   ...                ...                       ...   \n",
       "60  Indio Apache   F  11.0             Manuel                  Gonzales   \n",
       "61  Indio Apache   F   3.0             Manuel                  Gonzales   \n",
       "62       Español   M  30.0                NaN                       NaN   \n",
       "63           NaN   M  25.0                NaN                       NaN   \n",
       "64       Mestiza   F  16.0                NaN                       NaN   \n",
       "\n",
       "   Mother_First Name Mother_Paternal Last Name Husband_First Name   \\\n",
       "0                NaN                       NaN                 NaN   \n",
       "1                NaN                       NaN             Valerio   \n",
       "2              Maria                    Borboa                 NaN   \n",
       "3              Maria                    Borboa                 NaN   \n",
       "4              Maria                    Borboa                 NaN   \n",
       "..               ...                       ...                 ...   \n",
       "60          Michaela                      Ruiz                 NaN   \n",
       "61          Michaela                      Ruiz                 NaN   \n",
       "62               NaN                       NaN                 NaN   \n",
       "63               NaN                       NaN                 NaN   \n",
       "64               NaN                       NaN                 NaN   \n",
       "\n",
       "   Huband_Paternal Last name Wife_First Name Wife_Last name  \\\n",
       "0                        NaN           Maria         Borboa   \n",
       "1                   Mesa, de             NaN            NaN   \n",
       "2                        NaN             NaN            NaN   \n",
       "3                        NaN             NaN            NaN   \n",
       "4                        NaN             NaN            NaN   \n",
       "..                       ...             ...            ...   \n",
       "60                       NaN             NaN            NaN   \n",
       "61                       NaN             NaN            NaN   \n",
       "62                       NaN             NaN            NaN   \n",
       "63                       NaN             NaN            NaN   \n",
       "64                       NaN             NaN            NaN   \n",
       "\n",
       "               Status  ecpp_id    Ego_Last Name  \n",
       "0                 NaN        1              NaN  \n",
       "1                 NaN        2              NaN  \n",
       "2                 NaN        3  Mesa, de Borboa  \n",
       "3                 NaN        4  Mesa, de Borboa  \n",
       "4                 NaN        5  Mesa, de Borboa  \n",
       "..                ...      ...              ...  \n",
       "60                NaN       61    Gonzales Ruiz  \n",
       "61                NaN       62    Gonzales Ruiz  \n",
       "62            Soltero       63              NaN  \n",
       "63  Sirviente Baquero       64              NaN  \n",
       "64                NaN       65              NaN  \n",
       "\n",
       "[65 rows x 17 columns]"
      ]
     },
     "execution_count": 6,
     "metadata": {},
     "output_type": "execute_result"
    }
   ],
   "source": [
    "ecpp"
   ]
  },
  {
   "cell_type": "code",
   "execution_count": 7,
   "metadata": {},
   "outputs": [],
   "source": [
    "baptisms = pd.read_csv('data/Baptisms.csv')"
   ]
  },
  {
   "cell_type": "code",
   "execution_count": 8,
   "metadata": {},
   "outputs": [],
   "source": [
    "baptisms = baptisms.dropna(subset=['Surname', 'MSurname','FSurname'])"
   ]
  },
  {
   "cell_type": "markdown",
   "metadata": {},
   "source": [
    "## Data Cleaning"
   ]
  },
  {
   "cell_type": "code",
   "execution_count": 9,
   "metadata": {},
   "outputs": [],
   "source": [
    "# # This is for Direct Person Matching\n",
    "# baptisms_young = baptisms.copy()\n",
    "# baptisms_young.Age = baptisms.Age.apply(convert_age)\n",
    "# print(baptisms_young.shape)\n",
    "# baptisms_young = baptisms_young[baptisms_young.Age <= 21]\n",
    "# print(baptisms_young.shape)"
   ]
  },
  {
   "cell_type": "code",
   "execution_count": 10,
   "metadata": {},
   "outputs": [
    {
     "data": {
      "text/plain": [
       "(10864, 48)"
      ]
     },
     "execution_count": 10,
     "metadata": {},
     "output_type": "execute_result"
    }
   ],
   "source": [
    "# This is for Parent Person\n",
    "baptisms_all = baptisms.copy()\n",
    "baptisms_all.Age = baptisms.Age.apply(convert_age)\n",
    "baptisms_all.shape"
   ]
  },
  {
   "cell_type": "markdown",
   "metadata": {},
   "source": [
    "## Feature Information"
   ]
  },
  {
   "cell_type": "code",
   "execution_count": 11,
   "metadata": {},
   "outputs": [
    {
     "name": "stdout",
     "output_type": "stream",
     "text": [
      "(65, 17)\n"
     ]
    }
   ],
   "source": [
    "print(ecpp.shape)\n",
    "# print(baptisms_young.columns)"
   ]
  },
  {
   "cell_type": "markdown",
   "metadata": {},
   "source": [
    "## Ensemble Matching"
   ]
  },
  {
   "cell_type": "markdown",
   "metadata": {},
   "source": [
    "### Baptism Matching - Age < 21 for Direct name match"
   ]
  },
  {
   "cell_type": "code",
   "execution_count": 12,
   "metadata": {},
   "outputs": [],
   "source": [
    "# young_matcher = DirectPersonMatcher(ecpp, baptisms_young)"
   ]
  },
  {
   "cell_type": "code",
   "execution_count": 13,
   "metadata": {},
   "outputs": [],
   "source": [
    "# young_matcher.create_matched_records()"
   ]
  },
  {
   "cell_type": "code",
   "execution_count": 14,
   "metadata": {},
   "outputs": [],
   "source": [
    "# young_matcher.direct_name_matcher()"
   ]
  },
  {
   "cell_type": "code",
   "execution_count": 15,
   "metadata": {},
   "outputs": [],
   "source": [
    "# young_matcher.matched_records"
   ]
  },
  {
   "cell_type": "code",
   "execution_count": 16,
   "metadata": {},
   "outputs": [],
   "source": [
    "# young_matcher.match_names()"
   ]
  },
  {
   "cell_type": "code",
   "execution_count": 17,
   "metadata": {},
   "outputs": [],
   "source": [
    "# young_matcher.match_other_features()"
   ]
  },
  {
   "cell_type": "code",
   "execution_count": 18,
   "metadata": {},
   "outputs": [],
   "source": [
    "# matcher.save_to_pickle('matches/matched_records.pkl')"
   ]
  },
  {
   "cell_type": "code",
   "execution_count": 19,
   "metadata": {},
   "outputs": [],
   "source": [
    "# young_matcher.matched_records"
   ]
  },
  {
   "cell_type": "markdown",
   "metadata": {},
   "source": [
    "### Baptism Matching - All (Matching Parents included)"
   ]
  },
  {
   "cell_type": "code",
   "execution_count": 13,
   "metadata": {},
   "outputs": [],
   "source": [
    "all_matcher = PersonMatcher(ecpp, baptisms_all)"
   ]
  },
  {
   "cell_type": "code",
   "execution_count": 14,
   "metadata": {},
   "outputs": [],
   "source": [
    "all_matcher.create_matched_records()"
   ]
  },
  {
   "cell_type": "code",
   "execution_count": 15,
   "metadata": {},
   "outputs": [
    {
     "data": {
      "text/html": [
       "<div>\n",
       "<style scoped>\n",
       "    .dataframe tbody tr th:only-of-type {\n",
       "        vertical-align: middle;\n",
       "    }\n",
       "\n",
       "    .dataframe tbody tr th {\n",
       "        vertical-align: top;\n",
       "    }\n",
       "\n",
       "    .dataframe thead th {\n",
       "        text-align: right;\n",
       "    }\n",
       "</style>\n",
       "<table border=\"1\" class=\"dataframe\">\n",
       "  <thead>\n",
       "    <tr style=\"text-align: right;\">\n",
       "      <th></th>\n",
       "      <th>ecpp_id</th>\n",
       "      <th>#ID</th>\n",
       "    </tr>\n",
       "  </thead>\n",
       "  <tbody>\n",
       "    <tr>\n",
       "      <th>0</th>\n",
       "      <td>1</td>\n",
       "      <td>2</td>\n",
       "    </tr>\n",
       "    <tr>\n",
       "      <th>1</th>\n",
       "      <td>1</td>\n",
       "      <td>3</td>\n",
       "    </tr>\n",
       "    <tr>\n",
       "      <th>2</th>\n",
       "      <td>1</td>\n",
       "      <td>4</td>\n",
       "    </tr>\n",
       "    <tr>\n",
       "      <th>3</th>\n",
       "      <td>1</td>\n",
       "      <td>5</td>\n",
       "    </tr>\n",
       "    <tr>\n",
       "      <th>4</th>\n",
       "      <td>1</td>\n",
       "      <td>6</td>\n",
       "    </tr>\n",
       "    <tr>\n",
       "      <th>...</th>\n",
       "      <td>...</td>\n",
       "      <td>...</td>\n",
       "    </tr>\n",
       "    <tr>\n",
       "      <th>706155</th>\n",
       "      <td>65</td>\n",
       "      <td>105684</td>\n",
       "    </tr>\n",
       "    <tr>\n",
       "      <th>706156</th>\n",
       "      <td>65</td>\n",
       "      <td>105685</td>\n",
       "    </tr>\n",
       "    <tr>\n",
       "      <th>706157</th>\n",
       "      <td>65</td>\n",
       "      <td>105686</td>\n",
       "    </tr>\n",
       "    <tr>\n",
       "      <th>706158</th>\n",
       "      <td>65</td>\n",
       "      <td>105688</td>\n",
       "    </tr>\n",
       "    <tr>\n",
       "      <th>706159</th>\n",
       "      <td>65</td>\n",
       "      <td>105695</td>\n",
       "    </tr>\n",
       "  </tbody>\n",
       "</table>\n",
       "<p>706160 rows × 2 columns</p>\n",
       "</div>"
      ],
      "text/plain": [
       "        ecpp_id     #ID\n",
       "0             1       2\n",
       "1             1       3\n",
       "2             1       4\n",
       "3             1       5\n",
       "4             1       6\n",
       "...         ...     ...\n",
       "706155       65  105684\n",
       "706156       65  105685\n",
       "706157       65  105686\n",
       "706158       65  105688\n",
       "706159       65  105695\n",
       "\n",
       "[706160 rows x 2 columns]"
      ]
     },
     "execution_count": 15,
     "metadata": {},
     "output_type": "execute_result"
    }
   ],
   "source": [
    "all_matcher.matched_records"
   ]
  },
  {
   "cell_type": "code",
   "execution_count": 16,
   "metadata": {},
   "outputs": [],
   "source": [
    "all_matcher.direct_name_matcher()"
   ]
  },
  {
   "cell_type": "code",
   "execution_count": 17,
   "metadata": {},
   "outputs": [],
   "source": [
    "all_matcher.direct_match_names()"
   ]
  },
  {
   "cell_type": "code",
   "execution_count": 18,
   "metadata": {},
   "outputs": [
    {
     "data": {
      "text/html": [
       "<div>\n",
       "<style scoped>\n",
       "    .dataframe tbody tr th:only-of-type {\n",
       "        vertical-align: middle;\n",
       "    }\n",
       "\n",
       "    .dataframe tbody tr th {\n",
       "        vertical-align: top;\n",
       "    }\n",
       "\n",
       "    .dataframe thead th {\n",
       "        text-align: right;\n",
       "    }\n",
       "</style>\n",
       "<table border=\"1\" class=\"dataframe\">\n",
       "  <thead>\n",
       "    <tr style=\"text-align: right;\">\n",
       "      <th></th>\n",
       "      <th>ecpp_id</th>\n",
       "      <th>#ID</th>\n",
       "      <th>Census First Name</th>\n",
       "      <th>Baptisms First Name</th>\n",
       "      <th>First Name Match Classifier</th>\n",
       "      <th>Census Last Name</th>\n",
       "      <th>Baptisms Last Name</th>\n",
       "      <th>Last Name Match Classifier</th>\n",
       "    </tr>\n",
       "  </thead>\n",
       "  <tbody>\n",
       "    <tr>\n",
       "      <th>0</th>\n",
       "      <td>1</td>\n",
       "      <td>2</td>\n",
       "      <td>Valerio</td>\n",
       "      <td>Joseph Ignacio Matheo</td>\n",
       "      <td>18</td>\n",
       "      <td></td>\n",
       "      <td>Velasco y Lara</td>\n",
       "      <td>14</td>\n",
       "    </tr>\n",
       "    <tr>\n",
       "      <th>1</th>\n",
       "      <td>1</td>\n",
       "      <td>3</td>\n",
       "      <td>Valerio</td>\n",
       "      <td>Maria Estefana Valvanera</td>\n",
       "      <td>20</td>\n",
       "      <td></td>\n",
       "      <td>Villa</td>\n",
       "      <td>5</td>\n",
       "    </tr>\n",
       "    <tr>\n",
       "      <th>2</th>\n",
       "      <td>1</td>\n",
       "      <td>4</td>\n",
       "      <td>Valerio</td>\n",
       "      <td>Maria Antonia</td>\n",
       "      <td>11</td>\n",
       "      <td></td>\n",
       "      <td>Quixada</td>\n",
       "      <td>7</td>\n",
       "    </tr>\n",
       "    <tr>\n",
       "      <th>3</th>\n",
       "      <td>1</td>\n",
       "      <td>5</td>\n",
       "      <td>Valerio</td>\n",
       "      <td>Juan Pedro Jacinto</td>\n",
       "      <td>12</td>\n",
       "      <td></td>\n",
       "      <td>Ruiz</td>\n",
       "      <td>4</td>\n",
       "    </tr>\n",
       "    <tr>\n",
       "      <th>4</th>\n",
       "      <td>1</td>\n",
       "      <td>6</td>\n",
       "      <td>Valerio</td>\n",
       "      <td>Joseph Maria</td>\n",
       "      <td>9</td>\n",
       "      <td></td>\n",
       "      <td>Rodrigues</td>\n",
       "      <td>9</td>\n",
       "    </tr>\n",
       "    <tr>\n",
       "      <th>...</th>\n",
       "      <td>...</td>\n",
       "      <td>...</td>\n",
       "      <td>...</td>\n",
       "      <td>...</td>\n",
       "      <td>...</td>\n",
       "      <td>...</td>\n",
       "      <td>...</td>\n",
       "      <td>...</td>\n",
       "    </tr>\n",
       "    <tr>\n",
       "      <th>706155</th>\n",
       "      <td>65</td>\n",
       "      <td>105684</td>\n",
       "      <td>Maria Gertrudis</td>\n",
       "      <td>Maria Luisa</td>\n",
       "      <td>7</td>\n",
       "      <td></td>\n",
       "      <td>Ord</td>\n",
       "      <td>3</td>\n",
       "    </tr>\n",
       "    <tr>\n",
       "      <th>706156</th>\n",
       "      <td>65</td>\n",
       "      <td>105685</td>\n",
       "      <td>Maria Gertrudis</td>\n",
       "      <td>Aniceto</td>\n",
       "      <td>11</td>\n",
       "      <td></td>\n",
       "      <td>Gutierrez</td>\n",
       "      <td>9</td>\n",
       "    </tr>\n",
       "    <tr>\n",
       "      <th>706157</th>\n",
       "      <td>65</td>\n",
       "      <td>105686</td>\n",
       "      <td>Maria Gertrudis</td>\n",
       "      <td>Eliza Ana de Artellano</td>\n",
       "      <td>16</td>\n",
       "      <td></td>\n",
       "      <td>McKee</td>\n",
       "      <td>5</td>\n",
       "    </tr>\n",
       "    <tr>\n",
       "      <th>706158</th>\n",
       "      <td>65</td>\n",
       "      <td>105688</td>\n",
       "      <td>Maria Gertrudis</td>\n",
       "      <td>Guadalupe del Refujio Agustina</td>\n",
       "      <td>23</td>\n",
       "      <td></td>\n",
       "      <td>Pomber [Plummer]</td>\n",
       "      <td>16</td>\n",
       "    </tr>\n",
       "    <tr>\n",
       "      <th>706159</th>\n",
       "      <td>65</td>\n",
       "      <td>105695</td>\n",
       "      <td>Maria Gertrudis</td>\n",
       "      <td>Maria Santa</td>\n",
       "      <td>8</td>\n",
       "      <td></td>\n",
       "      <td>Soto</td>\n",
       "      <td>4</td>\n",
       "    </tr>\n",
       "  </tbody>\n",
       "</table>\n",
       "<p>706160 rows × 8 columns</p>\n",
       "</div>"
      ],
      "text/plain": [
       "        ecpp_id     #ID Census First Name             Baptisms First Name  \\\n",
       "0             1       2           Valerio           Joseph Ignacio Matheo   \n",
       "1             1       3           Valerio        Maria Estefana Valvanera   \n",
       "2             1       4           Valerio                   Maria Antonia   \n",
       "3             1       5           Valerio              Juan Pedro Jacinto   \n",
       "4             1       6           Valerio                    Joseph Maria   \n",
       "...         ...     ...               ...                             ...   \n",
       "706155       65  105684   Maria Gertrudis                     Maria Luisa   \n",
       "706156       65  105685   Maria Gertrudis                         Aniceto   \n",
       "706157       65  105686   Maria Gertrudis          Eliza Ana de Artellano   \n",
       "706158       65  105688   Maria Gertrudis  Guadalupe del Refujio Agustina   \n",
       "706159       65  105695   Maria Gertrudis                     Maria Santa   \n",
       "\n",
       "        First Name Match Classifier Census Last Name Baptisms Last Name  \\\n",
       "0                                18                      Velasco y Lara   \n",
       "1                                20                               Villa   \n",
       "2                                11                             Quixada   \n",
       "3                                12                                Ruiz   \n",
       "4                                 9                           Rodrigues   \n",
       "...                             ...              ...                ...   \n",
       "706155                            7                                 Ord   \n",
       "706156                           11                           Gutierrez   \n",
       "706157                           16                               McKee   \n",
       "706158                           23                    Pomber [Plummer]   \n",
       "706159                            8                                Soto   \n",
       "\n",
       "        Last Name Match Classifier  \n",
       "0                               14  \n",
       "1                                5  \n",
       "2                                7  \n",
       "3                                4  \n",
       "4                                9  \n",
       "...                            ...  \n",
       "706155                           3  \n",
       "706156                           9  \n",
       "706157                           5  \n",
       "706158                          16  \n",
       "706159                           4  \n",
       "\n",
       "[706160 rows x 8 columns]"
      ]
     },
     "execution_count": 18,
     "metadata": {},
     "output_type": "execute_result"
    }
   ],
   "source": [
    "all_matcher.matched_records"
   ]
  },
  {
   "cell_type": "code",
   "execution_count": 19,
   "metadata": {},
   "outputs": [],
   "source": [
    "all_matcher.match_parents()"
   ]
  },
  {
   "cell_type": "code",
   "execution_count": 20,
   "metadata": {},
   "outputs": [],
   "source": [
    "all_matcher.match_parents_names()"
   ]
  },
  {
   "cell_type": "code",
   "execution_count": null,
   "metadata": {},
   "outputs": [],
   "source": [
    "all_matcher.match_other_features()"
   ]
  },
  {
   "cell_type": "code",
   "execution_count": null,
   "metadata": {},
   "outputs": [],
   "source": [
    "all_matcher.save_to_pickle('pickles/matched_records_padron_267.pkl')"
   ]
  },
  {
   "cell_type": "code",
   "execution_count": null,
   "metadata": {},
   "outputs": [],
   "source": []
  }
 ],
 "metadata": {
  "kernelspec": {
   "display_name": "base",
   "language": "python",
   "name": "python3"
  },
  "language_info": {
   "codemirror_mode": {
    "name": "ipython",
    "version": 3
   },
   "file_extension": ".py",
   "mimetype": "text/x-python",
   "name": "python",
   "nbconvert_exporter": "python",
   "pygments_lexer": "ipython3",
   "version": "3.11.5"
  }
 },
 "nbformat": 4,
 "nbformat_minor": 2
}
