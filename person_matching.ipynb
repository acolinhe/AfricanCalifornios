{
 "cells": [
  {
   "cell_type": "markdown",
   "metadata": {},
   "source": [
    "# Person Matching Analysis"
   ]
  },
  {
   "cell_type": "markdown",
   "metadata": {},
   "source": [
    "## Imports"
   ]
  },
  {
   "cell_type": "code",
   "execution_count": 1,
   "metadata": {},
   "outputs": [],
   "source": [
    "import pandas as pd\n",
    "from person_matching_functions import *\n",
    "from person_matcher import PersonMatcher"
   ]
  },
  {
   "cell_type": "code",
   "execution_count": 2,
   "metadata": {},
   "outputs": [],
   "source": [
    "ecpp = pd.read_csv('data/1790 Census Data Complete.csv')\n",
    "ecpp['ecpp_id'] = range(1, len(ecpp) + 1) "
   ]
  },
  {
   "cell_type": "code",
   "execution_count": 3,
   "metadata": {},
   "outputs": [],
   "source": [
    "baptisms = pd.read_csv('data/Baptisms.csv')"
   ]
  },
  {
   "cell_type": "code",
   "execution_count": 4,
   "metadata": {},
   "outputs": [
    {
     "data": {
      "text/plain": [
       "(104338, 48)"
      ]
     },
     "execution_count": 4,
     "metadata": {},
     "output_type": "execute_result"
    }
   ],
   "source": [
    "baptisms.shape"
   ]
  },
  {
   "cell_type": "markdown",
   "metadata": {},
   "source": [
    "## Data Cleaning"
   ]
  },
  {
   "cell_type": "code",
   "execution_count": 5,
   "metadata": {},
   "outputs": [],
   "source": [
    "# Dropping values that are missing most important weights\n",
    "baptisms = baptisms.dropna(subset=['Surname', 'MSurname','FSurname'])"
   ]
  },
  {
   "cell_type": "code",
   "execution_count": 6,
   "metadata": {},
   "outputs": [],
   "source": [
    "# # This is for Direct Person Matching\n",
    "# baptisms_young = baptisms.copy()\n",
    "# baptisms_young.Age = baptisms.Age.apply(convert_age)\n",
    "# print(baptisms_young.shape)\n",
    "# baptisms_young = baptisms_young[baptisms_young.Age <= 21]\n",
    "# print(baptisms_young.shape)"
   ]
  },
  {
   "cell_type": "code",
   "execution_count": 7,
   "metadata": {},
   "outputs": [
    {
     "data": {
      "text/plain": [
       "Index(['#ID', 'DMission', 'MMission', 'FMission', 'Mission', 'DeathLinkBasis',\n",
       "       'BurialDate', 'DeathNumber', 'SCOfficiant', 'Recorder', 'Officiant',\n",
       "       'MNumber', 'MReligiousStatus', 'MEthnicity', 'MOrigin', 'MSurname',\n",
       "       'MNativeName', 'MSpanishName', 'FMilitaryStatus', 'FReligiousStatus',\n",
       "       'FEthnicity', 'FOrigin', 'FSurname', 'FNativeName', 'FSpanishName',\n",
       "       'FNumber', 'BirthDate', 'DerivedOrigin', 'ReligiousStatus', 'Ethnicity',\n",
       "       'Origin', 'Surname', 'NativeName', 'SpanishName', 'Age', 'Place',\n",
       "       'TypePhrase', 'SupliCeremoniaDate', 'Number', 'Date', 'FmtdDate',\n",
       "       'Type', 'MaritalStatus', 'Sex', 'Leg', 'Unit', 'Level', 'Notes'],\n",
       "      dtype='object')"
      ]
     },
     "execution_count": 7,
     "metadata": {},
     "output_type": "execute_result"
    }
   ],
   "source": [
    "# This is for Parent Person\n",
    "baptisms_all = baptisms.copy()\n",
    "baptisms_all.Age = baptisms.Age.apply(convert_age)\n",
    "baptisms_all.columns"
   ]
  },
  {
   "cell_type": "markdown",
   "metadata": {},
   "source": [
    "## Feature Information"
   ]
  },
  {
   "cell_type": "code",
   "execution_count": 8,
   "metadata": {},
   "outputs": [
    {
     "name": "stdout",
     "output_type": "stream",
     "text": [
      "Index(['Current_Location', 'First', 'First_Normalized', 'Last',\n",
      "       'Last_Normalized', 'Race', 'Rank', 'Gender', 'Origin', 'Age',\n",
      "       'Spouse_First', 'Spouse_Last', 'Father_First', 'Father_Last',\n",
      "       'Mother_First', 'Mother_Last', 'Child1', 'Child2', 'Child3', 'Child4',\n",
      "       'Child5', 'Child6', 'Child7', 'Child8', 'Child9', 'Child10', 'Child11',\n",
      "       'Child12', 'Child13', 'Child14', 'Origin Parish', 'Race in Other',\n",
      "       'Location Other Race', 'Notes/URL', 'ecpp_id'],\n",
      "      dtype='object')\n"
     ]
    }
   ],
   "source": [
    "print(ecpp.columns)\n",
    "# print(baptisms_young.columns)"
   ]
  },
  {
   "cell_type": "markdown",
   "metadata": {},
   "source": [
    "## Ensemble Matching"
   ]
  },
  {
   "cell_type": "markdown",
   "metadata": {},
   "source": [
    "### Baptism Matching - Age < 21 for Direct name match"
   ]
  },
  {
   "cell_type": "code",
   "execution_count": 9,
   "metadata": {},
   "outputs": [],
   "source": [
    "# young_matcher = DirectPersonMatcher(ecpp, baptisms_young)"
   ]
  },
  {
   "cell_type": "code",
   "execution_count": 10,
   "metadata": {},
   "outputs": [],
   "source": [
    "# young_matcher.create_matched_records()"
   ]
  },
  {
   "cell_type": "code",
   "execution_count": 11,
   "metadata": {},
   "outputs": [],
   "source": [
    "# young_matcher.direct_name_matcher()"
   ]
  },
  {
   "cell_type": "code",
   "execution_count": 12,
   "metadata": {},
   "outputs": [],
   "source": [
    "# young_matcher.matched_records"
   ]
  },
  {
   "cell_type": "code",
   "execution_count": 13,
   "metadata": {},
   "outputs": [],
   "source": [
    "# young_matcher.match_names()"
   ]
  },
  {
   "cell_type": "code",
   "execution_count": 14,
   "metadata": {},
   "outputs": [],
   "source": [
    "# young_matcher.match_other_features()"
   ]
  },
  {
   "cell_type": "code",
   "execution_count": 15,
   "metadata": {},
   "outputs": [],
   "source": [
    "# matcher.save_to_pickle('matches/matched_records.pkl')"
   ]
  },
  {
   "cell_type": "code",
   "execution_count": 16,
   "metadata": {},
   "outputs": [],
   "source": [
    "# young_matcher.matched_records"
   ]
  },
  {
   "cell_type": "markdown",
   "metadata": {},
   "source": [
    "### Baptism Matching - All (Matching Parents included)"
   ]
  },
  {
   "cell_type": "code",
   "execution_count": 17,
   "metadata": {},
   "outputs": [],
   "source": [
    "# all_matcher = DirectPersonMatcher(ecpp, baptisms_all)"
   ]
  },
  {
   "cell_type": "code",
   "execution_count": 18,
   "metadata": {},
   "outputs": [],
   "source": [
    "# all_matcher.create_matched_records()"
   ]
  },
  {
   "cell_type": "code",
   "execution_count": 19,
   "metadata": {},
   "outputs": [],
   "source": [
    "# all_matcher.direct_name_matcher()"
   ]
  },
  {
   "cell_type": "code",
   "execution_count": 20,
   "metadata": {},
   "outputs": [],
   "source": [
    "# all_matcher.match_names()"
   ]
  },
  {
   "cell_type": "code",
   "execution_count": 21,
   "metadata": {},
   "outputs": [],
   "source": [
    "# all_matcher.match_other_features()"
   ]
  },
  {
   "cell_type": "code",
   "execution_count": 22,
   "metadata": {},
   "outputs": [],
   "source": [
    "# all_matcher.save_to_pickle('matches/matched_records_all.pkl')"
   ]
  },
  {
   "cell_type": "code",
   "execution_count": 23,
   "metadata": {},
   "outputs": [],
   "source": [
    "# all_matcher.matched_records"
   ]
  },
  {
   "cell_type": "code",
   "execution_count": 24,
   "metadata": {},
   "outputs": [],
   "source": [
    "# all_matcher.matched_records"
   ]
  },
  {
   "cell_type": "code",
   "execution_count": 25,
   "metadata": {},
   "outputs": [],
   "source": [
    "all_matcher = PersonMatcher(ecpp, baptisms_all)"
   ]
  },
  {
   "cell_type": "code",
   "execution_count": 26,
   "metadata": {},
   "outputs": [],
   "source": [
    "# all_matcher.read_pickle('matches/matched_records_young_baptisms.pkl')"
   ]
  },
  {
   "cell_type": "code",
   "execution_count": 27,
   "metadata": {},
   "outputs": [
    {
     "data": {
      "text/html": [
       "<div>\n",
       "<style scoped>\n",
       "    .dataframe tbody tr th:only-of-type {\n",
       "        vertical-align: middle;\n",
       "    }\n",
       "\n",
       "    .dataframe tbody tr th {\n",
       "        vertical-align: top;\n",
       "    }\n",
       "\n",
       "    .dataframe thead th {\n",
       "        text-align: right;\n",
       "    }\n",
       "</style>\n",
       "<table border=\"1\" class=\"dataframe\">\n",
       "  <thead>\n",
       "    <tr style=\"text-align: right;\">\n",
       "      <th></th>\n",
       "      <th>ecpp_id</th>\n",
       "      <th>#ID</th>\n",
       "    </tr>\n",
       "  </thead>\n",
       "  <tbody>\n",
       "  </tbody>\n",
       "</table>\n",
       "</div>"
      ],
      "text/plain": [
       "Empty DataFrame\n",
       "Columns: [ecpp_id, #ID]\n",
       "Index: []"
      ]
     },
     "execution_count": 27,
     "metadata": {},
     "output_type": "execute_result"
    }
   ],
   "source": [
    "all_matcher.matched_records.head()"
   ]
  },
  {
   "cell_type": "code",
   "execution_count": 28,
   "metadata": {},
   "outputs": [],
   "source": [
    "# all_matcher.match_parents()"
   ]
  },
  {
   "cell_type": "code",
   "execution_count": 29,
   "metadata": {},
   "outputs": [],
   "source": [
    "# all_matcher.matched_records.drop(columns=['Mother Census First Name', 'Mother First Name Match Classifier', 'Mother Census Last Name', 'Mother Last Name Match Classifier', 'Father Census First Name', 'Father First Name Match Classifier','Father Census Last Name', 'Father Last Name Match Classifier'], inplace=True)"
   ]
  },
  {
   "cell_type": "code",
   "execution_count": 30,
   "metadata": {},
   "outputs": [],
   "source": [
    "# all_matcher.save_to_pickle('matches/matched_records_young_baptisms.pkl')"
   ]
  },
  {
   "cell_type": "code",
   "execution_count": 31,
   "metadata": {},
   "outputs": [
    {
     "data": {
      "text/html": [
       "<div>\n",
       "<style scoped>\n",
       "    .dataframe tbody tr th:only-of-type {\n",
       "        vertical-align: middle;\n",
       "    }\n",
       "\n",
       "    .dataframe tbody tr th {\n",
       "        vertical-align: top;\n",
       "    }\n",
       "\n",
       "    .dataframe thead th {\n",
       "        text-align: right;\n",
       "    }\n",
       "</style>\n",
       "<table border=\"1\" class=\"dataframe\">\n",
       "  <thead>\n",
       "    <tr style=\"text-align: right;\">\n",
       "      <th></th>\n",
       "      <th>ecpp_id</th>\n",
       "      <th>#ID</th>\n",
       "    </tr>\n",
       "  </thead>\n",
       "  <tbody>\n",
       "  </tbody>\n",
       "</table>\n",
       "</div>"
      ],
      "text/plain": [
       "Empty DataFrame\n",
       "Columns: [ecpp_id, #ID]\n",
       "Index: []"
      ]
     },
     "execution_count": 31,
     "metadata": {},
     "output_type": "execute_result"
    }
   ],
   "source": [
    "# all_matcher.matched_records"
   ]
  },
  {
   "cell_type": "code",
   "execution_count": 32,
   "metadata": {},
   "outputs": [],
   "source": [
    "# all_matcher.create_matched_records()"
   ]
  },
  {
   "cell_type": "code",
   "execution_count": 33,
   "metadata": {},
   "outputs": [],
   "source": [
    "# all_matcher.direct_name_matcher()"
   ]
  },
  {
   "cell_type": "code",
   "execution_count": 34,
   "metadata": {},
   "outputs": [],
   "source": [
    "# all_matcher.match_parents()"
   ]
  },
  {
   "cell_type": "code",
   "execution_count": 35,
   "metadata": {},
   "outputs": [],
   "source": [
    "# all_matcher.direct_match_names()"
   ]
  },
  {
   "cell_type": "code",
   "execution_count": 36,
   "metadata": {},
   "outputs": [],
   "source": [
    "# all_matcher.match_other_features()"
   ]
  },
  {
   "cell_type": "code",
   "execution_count": 37,
   "metadata": {},
   "outputs": [],
   "source": [
    "# all_matcher.match_parents_names()"
   ]
  },
  {
   "cell_type": "code",
   "execution_count": 38,
   "metadata": {},
   "outputs": [],
   "source": [
    "# all_matcher.save_to_pickle('matches/matched_records_baptisms_all.pkl')"
   ]
  },
  {
   "cell_type": "code",
   "execution_count": 40,
   "metadata": {},
   "outputs": [
    {
     "data": {
      "text/plain": [
       "Index(['ecpp_id', '#ID', 'Census First Name', 'Baptisms First Name',\n",
       "       'First Name Match Classifier', 'Census Last Name', 'Baptisms Last Name',\n",
       "       'Last Name Match Classifier', 'Mother Baptisms First Name',\n",
       "       'Mother First Name Match Classifier', 'Mother Baptisms Last Name',\n",
       "       'Mother Last Name Match Classifier', 'Father Baptisms First Name',\n",
       "       'Father First Name Match Classifier', 'Father Baptisms Last Name',\n",
       "       'Father Last Name Match Classifier', 'Census Gender', 'Baptisms Gender',\n",
       "       'Gender Match Classifier', 'Census Age', 'Baptisms Age',\n",
       "       'Age Match Range'],\n",
       "      dtype='object')"
      ]
     },
     "execution_count": 40,
     "metadata": {},
     "output_type": "execute_result"
    }
   ],
   "source": [
    "# all_matcher.matched_records.columns"
   ]
  },
  {
   "cell_type": "code",
   "execution_count": null,
   "metadata": {},
   "outputs": [],
   "source": [
    "## Data Science stuff to analyse data"
   ]
  }
 ],
 "metadata": {
  "kernelspec": {
   "display_name": "base",
   "language": "python",
   "name": "python3"
  },
  "language_info": {
   "codemirror_mode": {
    "name": "ipython",
    "version": 3
   },
   "file_extension": ".py",
   "mimetype": "text/x-python",
   "name": "python",
   "nbconvert_exporter": "python",
   "pygments_lexer": "ipython3",
   "version": "3.11.5"
  }
 },
 "nbformat": 4,
 "nbformat_minor": 2
}
