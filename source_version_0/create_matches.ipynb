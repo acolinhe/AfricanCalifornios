{
 "cells": [
  {
   "cell_type": "markdown",
   "id": "80636f5f-bf13-4604-931b-95e7ff04b5a5",
   "metadata": {},
   "source": [
    "# Match People"
   ]
  },
  {
   "cell_type": "code",
   "execution_count": 1,
   "id": "9b9a49c3-ffff-47ec-963f-5f4cde686063",
   "metadata": {
    "tags": []
   },
   "source": [
    "import pandas as pd\n",
    "from person_matching_functions import *\n",
    "from person_matcher import PersonMatcher"
   ],
   "outputs": []
  },
  {
   "cell_type": "code",
   "execution_count": 2,
   "id": "a203c66e-20be-482e-a62a-4ab7e3c3a8b0",
   "metadata": {
    "tags": []
   },
   "source": [
    "census = pd.read_csv('data/padron_1821.csv')\n",
    "baptisms = pd.read_csv('data/Baptisms.csv')"
   ],
   "outputs": []
  },
  {
   "cell_type": "code",
   "execution_count": 3,
   "id": "df32aeab-77f3-4a3e-8cef-736b964dcf6e",
   "metadata": {
    "tags": []
   },
   "source": [
    "census.dropna(how='all', inplace=True)\n",
    "baptisms.dropna(how='all', inplace=True)"
   ],
   "outputs": []
  },
  {
   "cell_type": "code",
   "execution_count": 4,
   "id": "dc3d7c88-cb1e-4c63-9385-4c550036b7da",
   "metadata": {
    "tags": []
   },
   "source": [
    "census['ecpp_id'] = range(1, len(census) + 1)\n",
    "baptisms['#ID'] = range(1, len(baptisms) + 1)"
   ],
   "outputs": []
  },
  {
   "cell_type": "code",
   "execution_count": 5,
   "id": "a1716155-89ab-4ce4-a4d4-98a5b5639504",
   "metadata": {
    "tags": []
   },
   "source": [
    "# padrones\n",
    "census['Ego_Last Name'] = (census['Ego_Paternal Last Name'].fillna('') + ' ' +\n",
    "                            census['Ego_ Maternal Last Name'].fillna('')).str.strip()"
   ],
   "outputs": []
  },
  {
   "cell_type": "code",
   "execution_count": 6,
   "id": "eb913640",
   "metadata": {},
   "source": [
    "census.columns"
   ],
   "outputs": []
  },
  {
   "cell_type": "code",
   "execution_count": 7,
   "id": "6bfa904a-de8b-4a06-931e-1d95864b1707",
   "metadata": {
    "tags": []
   },
   "source": [
    "# 1790 census\n",
    "# config = {\n",
    "#     'ecpp_id_col': 'ecpp_id',\n",
    "#     'records_id_col': '#ID',\n",
    "#     'census': {\n",
    "#         'First Name': 'First',\n",
    "#         'Last Name': 'Last',\n",
    "#         'Gender': 'Gender',\n",
    "#         'Age': 'Age',\n",
    "#     },\n",
    "#     'baptisms': {\n",
    "#         'First Name': 'SpanishName',\n",
    "#         'Last Name': 'Surname',\n",
    "#         'Mother First Name': 'MSpanishName',\n",
    "#         'Mother Last Name': 'MSurname',\n",
    "#         'Father First Name': 'FSpanishName',\n",
    "#         'Father Last Name': 'FSurname',\n",
    "#         'Gender': 'Sex',\n",
    "#         'Age': 'Age',\n",
    "#     }\n",
    "# }"
   ],
   "outputs": []
  },
  {
   "cell_type": "code",
   "execution_count": 8,
   "id": "fc951325-c310-4336-b5fb-6f04c71bf8b9",
   "metadata": {
    "tags": []
   },
   "source": [
    "# # Padrones\n",
    "config = {\n",
    "    'ecpp_id_col': 'ecpp_id',\n",
    "    'records_id_col': '#ID',\n",
    "    'census': {\n",
    "        'First Name': 'Ego_First Name',\n",
    "        'Last Name': 'Ego_Last Name',\n",
    "        'Gender': 'Sex'\n",
    "        # 'Age': 'Age',\n",
    "    },\n",
    "    'baptisms': {\n",
    "        'First Name': 'SpanishName',\n",
    "        'Last Name': 'Surname',\n",
    "        'Mother First Name': 'MSpanishName',\n",
    "        'Mother Last Name': 'MSurname',\n",
    "        'Father First Name': 'FSpanishName',\n",
    "        'Father Last Name': 'FSurname',\n",
    "        'Gender': 'Sex'\n",
    "        # 'Age': 'Age',\n",
    "    }\n",
    "}"
   ],
   "outputs": []
  },
  {
   "cell_type": "code",
   "execution_count": 9,
   "id": "8cac64c8-0976-45d8-93a7-e1e07fc8baa9",
   "metadata": {
    "tags": []
   },
   "source": [
    "matcher = PersonMatcher(census=census, baptisms=baptisms, config=config)"
   ],
   "outputs": []
  },
  {
   "cell_type": "code",
   "execution_count": 10,
   "id": "d65bf5a4-9655-42c4-b73f-254072f7edfb",
   "metadata": {},
   "source": [
    "%%time\n",
    "matched_results = matcher.create_matched_records()"
   ],
   "outputs": []
  },
  {
   "cell_type": "code",
   "execution_count": 11,
   "id": "cdcd7a31-dfe2-4a26-91b0-0cc843695c79",
   "metadata": {
    "tags": []
   },
   "source": [
    "matched_results"
   ],
   "outputs": []
  },
  {
   "cell_type": "code",
   "execution_count": 12,
   "id": "d7e6848f-3f5b-4968-87aa-5c6c1e4d3f41",
   "metadata": {
    "tags": []
   },
   "source": [
    "%%time\n",
    "matcher.match()\n",
    "# plot distribution scores"
   ],
   "outputs": []
  },
  {
   "cell_type": "code",
   "execution_count": 13,
   "id": "cd0bfefa-2f97-46c7-a575-49e203f6ba13",
   "metadata": {},
   "source": [
    "filename = \"matches/1821_census_matches.pkl\""
   ],
   "outputs": []
  },
  {
   "cell_type": "code",
   "execution_count": 14,
   "id": "50a635bc-b753-4e31-98a0-924a912bc124",
   "metadata": {
    "tags": []
   },
   "source": [
    "matcher.matched_records"
   ],
   "outputs": []
  },
  {
   "cell_type": "code",
   "execution_count": 15,
   "id": "10edec82-d33f-4bb9-88e3-7c20e1ef9c92",
   "metadata": {
    "tags": []
   },
   "source": [
    "matcher.save_matched_records(filename)"
   ],
   "outputs": []
  },
  {
   "cell_type": "code",
   "execution_count": null,
   "id": "de52ddf9",
   "metadata": {},
   "source": [
    "# threshold_value = 0.75\n",
    "# matcher.filter_records_by_score(threshold_value)"
   ],
   "outputs": []
  },
  {
   "cell_type": "code",
   "execution_count": null,
   "id": "2dd90dde",
   "metadata": {},
   "source": [],
   "outputs": []
  }
 ],
 "metadata": {
  "kernelspec": {
   "display_name": "Python 3 (ipykernel)",
   "language": "python",
   "name": "python3"
  },
  "language_info": {
   "codemirror_mode": {
    "name": "ipython",
    "version": 3
   },
   "file_extension": ".py",
   "mimetype": "text/x-python",
   "name": "python",
   "nbconvert_exporter": "python",
   "pygments_lexer": "ipython3",
   "version": "3.11.5"
  }
 },
 "nbformat": 4,
 "nbformat_minor": 5
}
