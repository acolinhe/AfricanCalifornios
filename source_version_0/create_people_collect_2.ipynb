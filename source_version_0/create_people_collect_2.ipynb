{
 "cells": [
  {
   "cell_type": "markdown",
   "metadata": {},
   "source": [
    "# Create People Collect 2"
   ]
  },
  {
   "cell_type": "code",
   "execution_count": 1,
   "metadata": {},
   "outputs": [],
   "source": [
    "import pandas as pd"
   ]
  },
  {
   "cell_type": "code",
   "execution_count": 2,
   "metadata": {},
   "outputs": [],
   "source": [
    "pc = pd.read_csv('people_collect/people_collect_2.csv')\n",
    "direct_1790_matched = pd.read_csv('matches/direct_matches.csv')\n",
    "baptisms = pd.read_csv('data/Baptisms.csv')\n",
    "census_1790 = pd.read_csv('data/1790 Census Data Complete.csv')\n",
    "census_1790['ecpp_id'] = range(1, len(census_1790) + 1)"
   ]
  },
  {
   "cell_type": "markdown",
   "metadata": {},
   "source": [
    "## Insert Matched "
   ]
  },
  {
   "cell_type": "code",
   "execution_count": 3,
   "metadata": {},
   "outputs": [
    {
     "data": {
      "text/plain": [
       "Index(['Current_Location', 'First', 'First_Normalized', 'Last',\n",
       "       'Last_Normalized', 'Race', 'Rank', 'Gender', 'Origin', 'Age',\n",
       "       'Spouse_First', 'Spouse_Last', 'Father_First', 'Father_Last',\n",
       "       'Mother_First', 'Mother_Last', 'Child1', 'Child2', 'Child3', 'Child4',\n",
       "       'Child5', 'Child6', 'Child7', 'Child8', 'Child9', 'Child10', 'Child11',\n",
       "       'Child12', 'Child13', 'Child14', 'Origin Parish', 'Race in Other',\n",
       "       'Location Other Race', 'Notes/URL', 'ecpp_id'],\n",
       "      dtype='object')"
      ]
     },
     "execution_count": 3,
     "metadata": {},
     "output_type": "execute_result"
    }
   ],
   "source": [
    "census_1790.columns"
   ]
  },
  {
   "cell_type": "code",
   "execution_count": 4,
   "metadata": {},
   "outputs": [
    {
     "data": {
      "text/plain": [
       "Index(['#ID', 'DMission', 'MMission', 'FMission', 'Mission', 'DeathLinkBasis',\n",
       "       'BurialDate', 'DeathNumber', 'SCOfficiant', 'Recorder', 'Officiant',\n",
       "       'MNumber', 'MReligiousStatus', 'MEthnicity', 'MOrigin', 'MSurname',\n",
       "       'MNativeName', 'MSpanishName', 'FMilitaryStatus', 'FReligiousStatus',\n",
       "       'FEthnicity', 'FOrigin', 'FSurname', 'FNativeName', 'FSpanishName',\n",
       "       'FNumber', 'BirthDate', 'DerivedOrigin', 'ReligiousStatus', 'Ethnicity',\n",
       "       'Origin', 'Surname', 'NativeName', 'SpanishName', 'Age', 'Place',\n",
       "       'TypePhrase', 'SupliCeremoniaDate', 'Number', 'Date', 'FmtdDate',\n",
       "       'Type', 'MaritalStatus', 'Sex', 'Leg', 'Unit', 'Level', 'Notes'],\n",
       "      dtype='object')"
      ]
     },
     "execution_count": 4,
     "metadata": {},
     "output_type": "execute_result"
    }
   ],
   "source": [
    "baptisms.columns"
   ]
  },
  {
   "cell_type": "code",
   "execution_count": 5,
   "metadata": {},
   "outputs": [
    {
     "data": {
      "text/plain": [
       "0               español\n",
       "1               español\n",
       "2              española\n",
       "3       orphan, unknown\n",
       "4               español\n",
       "             ...       \n",
       "1003          español, \n",
       "1004          español, \n",
       "1005          español, \n",
       "1006            español\n",
       "1007           española\n",
       "Name: Race, Length: 1008, dtype: object"
      ]
     },
     "execution_count": 5,
     "metadata": {},
     "output_type": "execute_result"
    }
   ],
   "source": [
    "census_1790.Race"
   ]
  },
  {
   "cell_type": "code",
   "execution_count": 6,
   "metadata": {},
   "outputs": [
    {
     "data": {
      "text/html": [
       "<div>\n",
       "<style scoped>\n",
       "    .dataframe tbody tr th:only-of-type {\n",
       "        vertical-align: middle;\n",
       "    }\n",
       "\n",
       "    .dataframe tbody tr th {\n",
       "        vertical-align: top;\n",
       "    }\n",
       "\n",
       "    .dataframe thead th {\n",
       "        text-align: right;\n",
       "    }\n",
       "</style>\n",
       "<table border=\"1\" class=\"dataframe\">\n",
       "  <thead>\n",
       "    <tr style=\"text-align: right;\">\n",
       "      <th></th>\n",
       "      <th>ecpp_id</th>\n",
       "      <th>#ID</th>\n",
       "      <th>Census First Name</th>\n",
       "      <th>Baptisms First Name</th>\n",
       "      <th>Census Last Name</th>\n",
       "      <th>Baptisms Last Name</th>\n",
       "      <th>Is Direct Match</th>\n",
       "    </tr>\n",
       "  </thead>\n",
       "  <tbody>\n",
       "    <tr>\n",
       "      <th>0</th>\n",
       "      <td>14</td>\n",
       "      <td>10949</td>\n",
       "      <td>José María</td>\n",
       "      <td>Joseph Maria</td>\n",
       "      <td>Verdugo</td>\n",
       "      <td>Verdugo</td>\n",
       "      <td>True</td>\n",
       "    </tr>\n",
       "    <tr>\n",
       "      <th>1</th>\n",
       "      <td>15</td>\n",
       "      <td>1603</td>\n",
       "      <td>María</td>\n",
       "      <td>Martina</td>\n",
       "      <td>López</td>\n",
       "      <td>Lopez</td>\n",
       "      <td>True</td>\n",
       "    </tr>\n",
       "    <tr>\n",
       "      <th>2</th>\n",
       "      <td>15</td>\n",
       "      <td>11438</td>\n",
       "      <td>María</td>\n",
       "      <td>Martina</td>\n",
       "      <td>López</td>\n",
       "      <td>[Lopez]</td>\n",
       "      <td>True</td>\n",
       "    </tr>\n",
       "    <tr>\n",
       "      <th>3</th>\n",
       "      <td>15</td>\n",
       "      <td>11804</td>\n",
       "      <td>María</td>\n",
       "      <td>Maria</td>\n",
       "      <td>López</td>\n",
       "      <td>Lopez</td>\n",
       "      <td>True</td>\n",
       "    </tr>\n",
       "    <tr>\n",
       "      <th>4</th>\n",
       "      <td>15</td>\n",
       "      <td>28491</td>\n",
       "      <td>María</td>\n",
       "      <td>Mariana</td>\n",
       "      <td>López</td>\n",
       "      <td>Gomez</td>\n",
       "      <td>True</td>\n",
       "    </tr>\n",
       "    <tr>\n",
       "      <th>...</th>\n",
       "      <td>...</td>\n",
       "      <td>...</td>\n",
       "      <td>...</td>\n",
       "      <td>...</td>\n",
       "      <td>...</td>\n",
       "      <td>...</td>\n",
       "      <td>...</td>\n",
       "    </tr>\n",
       "    <tr>\n",
       "      <th>128</th>\n",
       "      <td>962</td>\n",
       "      <td>73563</td>\n",
       "      <td>José Miguel</td>\n",
       "      <td>Jose Manuel</td>\n",
       "      <td>Saez</td>\n",
       "      <td>Sayenz</td>\n",
       "      <td>True</td>\n",
       "    </tr>\n",
       "    <tr>\n",
       "      <th>129</th>\n",
       "      <td>975</td>\n",
       "      <td>1525</td>\n",
       "      <td>Juan</td>\n",
       "      <td>Juan</td>\n",
       "      <td>López</td>\n",
       "      <td>Jones</td>\n",
       "      <td>True</td>\n",
       "    </tr>\n",
       "    <tr>\n",
       "      <th>130</th>\n",
       "      <td>975</td>\n",
       "      <td>25658</td>\n",
       "      <td>Juan</td>\n",
       "      <td>Juan</td>\n",
       "      <td>López</td>\n",
       "      <td>Lopez</td>\n",
       "      <td>True</td>\n",
       "    </tr>\n",
       "    <tr>\n",
       "      <th>131</th>\n",
       "      <td>995</td>\n",
       "      <td>95394</td>\n",
       "      <td>Ana María</td>\n",
       "      <td>Juana Maria</td>\n",
       "      <td>Bojórquez</td>\n",
       "      <td>Bojorquez</td>\n",
       "      <td>True</td>\n",
       "    </tr>\n",
       "    <tr>\n",
       "      <th>132</th>\n",
       "      <td>1001</td>\n",
       "      <td>75718</td>\n",
       "      <td>Juana María</td>\n",
       "      <td>Juana Maria</td>\n",
       "      <td>Soto</td>\n",
       "      <td>Soto</td>\n",
       "      <td>True</td>\n",
       "    </tr>\n",
       "  </tbody>\n",
       "</table>\n",
       "<p>133 rows × 7 columns</p>\n",
       "</div>"
      ],
      "text/plain": [
       "     ecpp_id    #ID Census First Name Baptisms First Name Census Last Name  \\\n",
       "0         14  10949        José María        Joseph Maria          Verdugo   \n",
       "1         15   1603             María             Martina            López   \n",
       "2         15  11438             María             Martina            López   \n",
       "3         15  11804             María               Maria            López   \n",
       "4         15  28491             María             Mariana            López   \n",
       "..       ...    ...               ...                 ...              ...   \n",
       "128      962  73563       José Miguel         Jose Manuel             Saez   \n",
       "129      975   1525              Juan                Juan            López   \n",
       "130      975  25658              Juan                Juan            López   \n",
       "131      995  95394         Ana María         Juana Maria        Bojórquez   \n",
       "132     1001  75718       Juana María         Juana Maria             Soto   \n",
       "\n",
       "    Baptisms Last Name  Is Direct Match  \n",
       "0              Verdugo             True  \n",
       "1                Lopez             True  \n",
       "2              [Lopez]             True  \n",
       "3                Lopez             True  \n",
       "4                Gomez             True  \n",
       "..                 ...              ...  \n",
       "128             Sayenz             True  \n",
       "129              Jones             True  \n",
       "130              Lopez             True  \n",
       "131          Bojorquez             True  \n",
       "132               Soto             True  \n",
       "\n",
       "[133 rows x 7 columns]"
      ]
     },
     "execution_count": 6,
     "metadata": {},
     "output_type": "execute_result"
    }
   ],
   "source": [
    "direct_1790_matched"
   ]
  },
  {
   "cell_type": "code",
   "execution_count": 7,
   "metadata": {},
   "outputs": [
    {
     "data": {
      "text/plain": [
       "Index(['last_name', 'first_name', 'race_aggregated', 'race_1790',\n",
       "       'race_sj1778', 'race_la1781', 'race_la1785', 'race_la1821', 'ethnicity',\n",
       "       'baptismal_date', 'location_ecpp_baptism', 'location_1790_census',\n",
       "       'father_last_name', 'father_first_name', 'father_military_status',\n",
       "       'father_origin', 'mother_last_name', 'mother_first_name',\n",
       "       'mother_origin', 'sex', 'origin_parish_1790_census',\n",
       "       'location_other_race', 'notes_url_1790_census'],\n",
       "      dtype='object')"
      ]
     },
     "execution_count": 7,
     "metadata": {},
     "output_type": "execute_result"
    }
   ],
   "source": [
    "pc.columns"
   ]
  },
  {
   "cell_type": "code",
   "execution_count": 8,
   "metadata": {},
   "outputs": [],
   "source": [
    "def clean_and_reformat_race(race_value):\n",
    "    if pd.isnull(race_value):\n",
    "        return []\n",
    "    cleaned_list = [\n",
    "        item.strip().strip('.').replace('[', '').replace(']', '')\n",
    "        for item in str(race_value).split(',') if item.strip()\n",
    "    ]\n",
    "    return cleaned_list"
   ]
  },
  {
   "cell_type": "markdown",
   "metadata": {},
   "source": [
    "## Baptisms & 1790 Census"
   ]
  },
  {
   "cell_type": "code",
   "execution_count": 9,
   "metadata": {},
   "outputs": [],
   "source": [
    "# access values that are matched between baptisms & 1790 census and insert into people_collect 2.0\n",
    "# will need function to get parents names\n",
    "# function to aggregate race\n",
    "data_to_append = []\n",
    "\n",
    "for index, row in direct_1790_matched.iterrows():\n",
    "    pc.loc[index, 'last_name'] = census_1790.loc[row['ecpp_id'], 'Last']\n",
    "    pc.loc[index, 'first_name'] = census_1790.loc[row['ecpp_id'], 'First']\n",
    "    pc.loc[index, 'father_last_name'] = census_1790.loc[row['ecpp_id'], 'Father_Last']\n",
    "    pc.loc[index, 'father_first_name'] = census_1790.loc[row['ecpp_id'], 'Father_First']\n",
    "    pc.loc[index, 'mother_last_name'] = census_1790.loc[row['ecpp_id'], 'Mother_Last']\n",
    "    pc.loc[index, 'mother_first_name'] = census_1790.loc[row['ecpp_id'], 'Mother_First']\n",
    "    # maybe redundant?\n",
    "    pc.loc[index, 'father_origin'] = baptisms.loc[row['#ID'], 'FOrigin']\n",
    "    pc.loc[index, 'mother_origin'] = baptisms.loc[row['#ID'], 'FOrigin']\n",
    "\n",
    "    pc.loc[index, 'father_military_status'] = baptisms.loc[row['#ID'], 'FMilitaryStatus']\n",
    "    pc.loc[index, 'sex'] = baptisms.loc[row['#ID'], 'Sex']\n",
    "\n",
    "    pc.loc[index, 'race_1790'] = census_1790.loc[row['ecpp_id'], 'Race']\n",
    "    pc.loc[index, 'ethnicity'] = baptisms.loc[row['#ID'], 'Ethnicity']\n",
    "    pc.loc[index, 'baptismal_date'] = baptisms.loc[row['#ID'], 'FmtdDate']\n",
    "    pc.loc[index, 'location_ecpp_baptism'] = baptisms.loc[row['#ID'], 'DMission']\n",
    "    pc.loc[index, 'location_1790_census'] = census_1790.loc[row['ecpp_id'], 'Current_Location']\n",
    "    pc.loc[index, 'origin_parish_1790_census'] = census_1790.loc[row['ecpp_id'], 'Origin Parish']\n",
    "    pc.loc[index, 'location_other_race'] = census_1790.loc[row['ecpp_id'], 'Location Other Race']\n",
    "\n",
    "    # popoulate pc_id\n",
    "    data_to_append.append({'pc_id': index, '1790_ecpp_id': row['ecpp_id'], 'baptisms_id': row['#ID']})\n",
    "\n",
    "    \n",
    "\n",
    "pc['race_1790'] = pc['race_1790'].apply(clean_and_reformat_race)\n",
    "pc['ethnicity'] = pc['ethnicity'].apply(clean_and_reformat_race)\n",
    "pc_id = pd.DataFrame(data_to_append)"
   ]
  },
  {
   "cell_type": "markdown",
   "metadata": {},
   "source": [
    "## Baptisms & 1821 Padron"
   ]
  },
  {
   "cell_type": "code",
   "execution_count": 10,
   "metadata": {},
   "outputs": [],
   "source": [
    "# values are repetitive, but ecpp_id and baptisms id are unique. This means records are duplicated\n",
    "pc.to_csv('people_collect/people_collect_2.csv', index=False)"
   ]
  },
  {
   "cell_type": "code",
   "execution_count": 11,
   "metadata": {},
   "outputs": [],
   "source": [
    "pc_id.to_csv('people_collect/people_collect_2_ids.csv', index=False)"
   ]
  },
  {
   "cell_type": "code",
   "execution_count": 12,
   "metadata": {},
   "outputs": [
    {
     "data": {
      "text/html": [
       "<div>\n",
       "<style scoped>\n",
       "    .dataframe tbody tr th:only-of-type {\n",
       "        vertical-align: middle;\n",
       "    }\n",
       "\n",
       "    .dataframe tbody tr th {\n",
       "        vertical-align: top;\n",
       "    }\n",
       "\n",
       "    .dataframe thead th {\n",
       "        text-align: right;\n",
       "    }\n",
       "</style>\n",
       "<table border=\"1\" class=\"dataframe\">\n",
       "  <thead>\n",
       "    <tr style=\"text-align: right;\">\n",
       "      <th></th>\n",
       "      <th>pc_id</th>\n",
       "      <th>1790_ecpp_id</th>\n",
       "      <th>baptisms_id</th>\n",
       "    </tr>\n",
       "  </thead>\n",
       "  <tbody>\n",
       "    <tr>\n",
       "      <th>0</th>\n",
       "      <td>0</td>\n",
       "      <td>14</td>\n",
       "      <td>10949</td>\n",
       "    </tr>\n",
       "    <tr>\n",
       "      <th>1</th>\n",
       "      <td>1</td>\n",
       "      <td>15</td>\n",
       "      <td>1603</td>\n",
       "    </tr>\n",
       "    <tr>\n",
       "      <th>2</th>\n",
       "      <td>2</td>\n",
       "      <td>15</td>\n",
       "      <td>11438</td>\n",
       "    </tr>\n",
       "    <tr>\n",
       "      <th>3</th>\n",
       "      <td>3</td>\n",
       "      <td>15</td>\n",
       "      <td>11804</td>\n",
       "    </tr>\n",
       "    <tr>\n",
       "      <th>4</th>\n",
       "      <td>4</td>\n",
       "      <td>15</td>\n",
       "      <td>28491</td>\n",
       "    </tr>\n",
       "    <tr>\n",
       "      <th>...</th>\n",
       "      <td>...</td>\n",
       "      <td>...</td>\n",
       "      <td>...</td>\n",
       "    </tr>\n",
       "    <tr>\n",
       "      <th>128</th>\n",
       "      <td>128</td>\n",
       "      <td>962</td>\n",
       "      <td>73563</td>\n",
       "    </tr>\n",
       "    <tr>\n",
       "      <th>129</th>\n",
       "      <td>129</td>\n",
       "      <td>975</td>\n",
       "      <td>1525</td>\n",
       "    </tr>\n",
       "    <tr>\n",
       "      <th>130</th>\n",
       "      <td>130</td>\n",
       "      <td>975</td>\n",
       "      <td>25658</td>\n",
       "    </tr>\n",
       "    <tr>\n",
       "      <th>131</th>\n",
       "      <td>131</td>\n",
       "      <td>995</td>\n",
       "      <td>95394</td>\n",
       "    </tr>\n",
       "    <tr>\n",
       "      <th>132</th>\n",
       "      <td>132</td>\n",
       "      <td>1001</td>\n",
       "      <td>75718</td>\n",
       "    </tr>\n",
       "  </tbody>\n",
       "</table>\n",
       "<p>133 rows × 3 columns</p>\n",
       "</div>"
      ],
      "text/plain": [
       "     pc_id  1790_ecpp_id  baptisms_id\n",
       "0        0            14        10949\n",
       "1        1            15         1603\n",
       "2        2            15        11438\n",
       "3        3            15        11804\n",
       "4        4            15        28491\n",
       "..     ...           ...          ...\n",
       "128    128           962        73563\n",
       "129    129           975         1525\n",
       "130    130           975        25658\n",
       "131    131           995        95394\n",
       "132    132          1001        75718\n",
       "\n",
       "[133 rows x 3 columns]"
      ]
     },
     "execution_count": 12,
     "metadata": {},
     "output_type": "execute_result"
    }
   ],
   "source": [
    "pc_id"
   ]
  },
  {
   "cell_type": "code",
   "execution_count": null,
   "metadata": {},
   "outputs": [],
   "source": []
  }
 ],
 "metadata": {
  "kernelspec": {
   "display_name": "base",
   "language": "python",
   "name": "python3"
  },
  "language_info": {
   "codemirror_mode": {
    "name": "ipython",
    "version": 3
   },
   "file_extension": ".py",
   "mimetype": "text/x-python",
   "name": "python",
   "nbconvert_exporter": "python",
   "pygments_lexer": "ipython3",
   "version": "3.11.5"
  }
 },
 "nbformat": 4,
 "nbformat_minor": 2
}
